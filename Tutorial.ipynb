{
  "cells": [
    {
      "cell_type": "markdown",
      "metadata": {
        "id": "view-in-github",
        "colab_type": "text"
      },
      "source": [
        "<a href=\"https://colab.research.google.com/github/RealThanosP/pred-main-mod/blob/main/Tutorial.ipynb\" target=\"_parent\"><img src=\"https://colab.research.google.com/assets/colab-badge.svg\" alt=\"Open In Colab\"/></a>"
      ]
    },
    {
      "cell_type": "markdown",
      "metadata": {
        "id": "neEq__TeAtfU"
      },
      "source": [
        "# Import libraries"
      ]
    },
    {
      "cell_type": "code",
      "execution_count": 17,
      "metadata": {
        "id": "LPHG33X4ArXc",
        "outputId": "350ae57e-bee1-4d11-c786-595d39871797",
        "colab": {
          "base_uri": "https://localhost:8080/"
        }
      },
      "outputs": [
        {
          "output_type": "stream",
          "name": "stdout",
          "text": [
            "fatal: destination path 'pred-main-mod' already exists and is not an empty directory.\n",
            "/content/pred-main-mod\n"
          ]
        }
      ],
      "source": [
        "import numpy as np\n",
        "import pandas as pd\n",
        "import matplotlib.pyplot as plt\n",
        "\n",
        "# Load the data on the server session\n",
        "!git clone https://github.com/RealThanosP/pred-main-mod\n",
        "%cd pred-main-mod"
      ]
    },
    {
      "cell_type": "markdown",
      "metadata": {
        "id": "Toex1L3YA5wm"
      },
      "source": [
        "# Dataset:\n",
        "Helwig, N., Pignanelli, E., & Schtze, A. (2015). Condition monitoring of hydraulic systems [Dataset]. UCI Machine Learning Repository. https://doi.org/10.24432/C5CW21.\n"
      ]
    },
    {
      "cell_type": "markdown",
      "metadata": {
        "id": "3ehff16hGZNC"
      },
      "source": [
        "# Getting the sensor files in a list\n",
        "\n"
      ]
    },
    {
      "cell_type": "code",
      "execution_count": 15,
      "metadata": {
        "id": "EpyfmrKeGPRC"
      },
      "outputs": [],
      "source": [
        "import os\n",
        "\n",
        "folder_path = \"data/condition+monitoring+of+hydraulic+systems\"\n",
        "\n",
        "# Define the list of sensors and their corresponding column names\n",
        "sensors = [\n",
        "    \"PS1\", \"PS2\", \"PS3\", \"PS4\", \"PS5\", \"PS6\",  # Pressure sensors\n",
        "    \"EPS1\",  # Motor power\n",
        "    \"FS1\", \"FS2\",  # Volume flow\n",
        "    \"TS1\", \"TS2\", \"TS3\", \"TS4\",  # Temperature sensors\n",
        "    \"VS1\",  # Vibration\n",
        "    \"CE\",  # Cooling efficiency\n",
        "    \"CP\",  # Cooling power\n",
        "    \"SE\"  # Efficiency factor\n",
        "]\n",
        "\n",
        "# Initialize a list to hold the data from each txt file\n",
        "all_data = []"
      ]
    },
    {
      "cell_type": "code",
      "execution_count": 20,
      "metadata": {
        "collapsed": true,
        "id": "N0FuvwQ_JoES"
      },
      "outputs": [],
      "source": [
        "# Gets all the text files from dataset\n",
        "txt_files = [f for f in os.listdir(folder_path) if f.endswith('.txt')]\n",
        "\n",
        "# Keeps only the data that have a sensor name in the filename\n",
        "sensor_files_paths = [f\"{folder_path}/{f}\" for f in txt_files if any(sensor in f for sensor in sensors)]\n"
      ]
    },
    {
      "cell_type": "markdown",
      "source": [
        "## Plot the data"
      ],
      "metadata": {
        "id": "ctWzedeR98Vw"
      }
    },
    {
      "cell_type": "code",
      "source": [
        "df = pd.read_csv(sensor_files_paths[1], sep=\"\\t\", header = None)\n",
        "# Name the columns and the rows\n",
        "df.columns = [f\"{time + 1}\" for time in range(0, df.shape[1])]\n",
        "df.index = [f\"{time + 1}\" for time in range(0, df.shape[0])]\n",
        "\n",
        "num_col = len(df.columns)\n",
        "num_row = len(df.index)\n",
        "\n",
        "# Generate x-axis based on np.linspace\n",
        "x = np.linspace(0, num_col, num_row)\n",
        "\n",
        "# Select a subset of columns to plot (e.g., first 5)\n",
        "df_subset = df.iloc[:, :2025]\n",
        "\n",
        "# Plot each selected column\n",
        "plt.figure(figsize=(12, 6))\n",
        "for col in df_subset.columns:\n",
        "    plt.plot(x, df_subset[col], label=f\"Column {col}\")\n",
        "\n",
        "plt.xlabel(\"X-axis (Generated)\")\n",
        "plt.ylabel(\"Values\")\n",
        "plt.title(\"Sensor Data Plot\")\n",
        "plt.legend()\n",
        "plt.show()"
      ],
      "metadata": {
        "id": "x3OpNhQQ9_bQ",
        "outputId": "14bdee1c-48ab-4a96-c2de-399751426cb1",
        "colab": {
          "base_uri": "https://localhost:8080/"
        }
      },
      "execution_count": null,
      "outputs": [
        {
          "output_type": "stream",
          "name": "stdout",
          "text": [
            "2205\n"
          ]
        },
        {
          "output_type": "stream",
          "name": "stderr",
          "text": [
            "/usr/local/lib/python3.11/dist-packages/IPython/core/pylabtools.py:151: UserWarning: Creating legend with loc=\"best\" can be slow with large amounts of data.\n",
            "  fig.canvas.print_figure(bytes_io, **kw)\n"
          ]
        }
      ]
    }
  ],
  "metadata": {
    "colab": {
      "provenance": [],
      "include_colab_link": true
    },
    "kernelspec": {
      "display_name": ".venv",
      "language": "python",
      "name": "python3"
    },
    "language_info": {
      "codemirror_mode": {
        "name": "ipython",
        "version": 3
      },
      "file_extension": ".py",
      "mimetype": "text/x-python",
      "name": "python",
      "nbconvert_exporter": "python",
      "pygments_lexer": "ipython3",
      "version": "3.12.3"
    }
  },
  "nbformat": 4,
  "nbformat_minor": 0
}