{
  "cells": [
    {
      "cell_type": "markdown",
      "metadata": {
        "id": "view-in-github",
        "colab_type": "text"
      },
      "source": [
        "<a href=\"https://colab.research.google.com/github/RealThanosP/pred-main-mod/blob/main/Tutorial.ipynb\" target=\"_parent\"><img src=\"https://colab.research.google.com/assets/colab-badge.svg\" alt=\"Open In Colab\"/></a>"
      ]
    },
    {
      "cell_type": "markdown",
      "source": [
        "# Clone repository from GitHub"
      ],
      "metadata": {
        "id": "mD7OTCRCPqdq"
      }
    },
    {
      "cell_type": "code",
      "source": [
        "# Load the data on the server session\n",
        "!git clone https://github.com/RealThanosP/pred-main-mod\n",
        "\n",
        "# Change your working directory inside the repository\n",
        "%cd pred-main-mod"
      ],
      "metadata": {
        "id": "SFvAYNQ1Pyik"
      },
      "execution_count": null,
      "outputs": []
    },
    {
      "cell_type": "markdown",
      "metadata": {
        "id": "Toex1L3YA5wm"
      },
      "source": [
        "# Dataset:\n",
        "Helwig, N., Pignanelli, E., & Schtze, A. (2015). Condition monitoring of hydraulic systems [Dataset]. UCI Machine Learning Repository. https://doi.org/10.24432/C5CW21.\n"
      ]
    },
    {
      "cell_type": "markdown",
      "metadata": {
        "id": "neEq__TeAtfU"
      },
      "source": [
        "# Import libraries"
      ]
    },
    {
      "cell_type": "code",
      "execution_count": 164,
      "metadata": {
        "id": "LPHG33X4ArXc"
      },
      "outputs": [],
      "source": [
        "import numpy as np\n",
        "import pandas as pd\n",
        "import matplotlib.pyplot as plt\n",
        "import seaborn as sns\n",
        "import xgboost as xgb\n",
        "from sklearn.metrics import mean_squared_error\n",
        "from scipy.fftpack import fft"
      ]
    },
    {
      "cell_type": "markdown",
      "metadata": {
        "id": "3ehff16hGZNC"
      },
      "source": [
        "# Getting the sensor files in a list\n",
        "\n"
      ]
    },
    {
      "cell_type": "code",
      "execution_count": 2,
      "metadata": {
        "id": "EpyfmrKeGPRC"
      },
      "outputs": [],
      "source": [
        "import os\n",
        "\n",
        "folder_path = \"data/condition+monitoring+of+hydraulic+systems\"\n",
        "\n",
        "# Define the list of sensors and their corresponding column names\n",
        "sensors = [\n",
        "    \"PS1\", \"PS2\", \"PS3\", \"PS4\", \"PS5\", \"PS6\",  # Pressure sensors\n",
        "    \"EPS1\",  # Motor power\n",
        "    \"FS1\", \"FS2\",  # Volume flow\n",
        "    \"TS1\", \"TS2\", \"TS3\", \"TS4\",  # Temperature sensors\n",
        "    \"VS1\",  # Vibration\n",
        "    \"CE\",  # Cooling efficiency\n",
        "    \"CP\",  # Cooling power\n",
        "    \"SE\"  # Efficiency factor\n",
        "]\n",
        "\n",
        "# Initialize a list to hold the data from each txt file\n",
        "all_data = []"
      ]
    },
    {
      "cell_type": "code",
      "execution_count": 114,
      "metadata": {
        "collapsed": true,
        "id": "N0FuvwQ_JoES"
      },
      "outputs": [],
      "source": [
        "# Gets all the text files from dataset\n",
        "txt_files = [f for f in os.listdir(folder_path) if f.endswith('.txt')]\n",
        "\n",
        "# Keeps only the data that have a sensor name in the filename\n",
        "sensor_file_path_list = [f\"{folder_path}/{f}\" for f in txt_files if any(sensor in f for sensor in sensors)]\n",
        "sensor_file_path_list.sort()"
      ]
    },
    {
      "cell_type": "markdown",
      "source": [
        "# Filter sensor files into different lists\n",
        "Lists contain the file path of the sensor, so you can **.read_csv()** directly from the list item."
      ],
      "metadata": {
        "id": "SkUecjtYDEDY"
      }
    },
    {
      "cell_type": "code",
      "source": [
        "# Multiple sensors\n",
        "pressure_sensors = [f for f in sensor_file_path_list if \"PS\" in f and \"EPS\" not in f]\n",
        "temp_sensors = [f for f in sensor_file_path_list if \"TS\" in f]\n",
        "flow_sensors = [f for f in sensor_file_path_list if \"FS\" in f]\n",
        "\n",
        "# Unary sensors, 1 sensor\n",
        "vibration_sensor = [f for f in sensor_file_path_list if \"VS\" in f][0]\n",
        "cooling_efficiency_sensor = [f for f in sensor_file_path_list if \"CE\" in f][0]\n",
        "cooling_power_sensor = [f for f in sensor_file_path_list if \"CP\" in f][0]\n",
        "efficiency_factor_sensor = [f for f in sensor_file_path_list if \"SE\" in f][0]"
      ],
      "metadata": {
        "id": "x3OpNhQQ9_bQ"
      },
      "execution_count": 142,
      "outputs": []
    },
    {
      "cell_type": "markdown",
      "source": [
        "# Load Pressure Data\n",
        "\n",
        "Takes a long time to load, so just run it once.\n",
        "\n",
        "---\n",
        "\n",
        "\n",
        "Based on the **documentation** the sample rate of the pressure sensors is 6000Hz.\n",
        "\n",
        "We are talking about 36000 columns.\n",
        "\n",
        "Each 6000 column inteval contains the data of the coresponding sensor PS(1-6)"
      ],
      "metadata": {
        "id": "qcILIQCmGPe-"
      }
    },
    {
      "cell_type": "code",
      "source": [
        "df_pressure = pd.concat([pd.read_csv(f, sep=\"\\t\", header=None) for f in pressure_sensors], axis=1)"
      ],
      "metadata": {
        "id": "bRwSk6n0L0zv"
      },
      "execution_count": 147,
      "outputs": []
    },
    {
      "cell_type": "markdown",
      "source": [
        "# FFT Feature Analysis"
      ],
      "metadata": {
        "id": "g5cZrRSBNK_j"
      }
    },
    {
      "cell_type": "code",
      "source": [
        "# Sampling frequency (assuming 100 Hz for high-speed sensors)\n",
        "fs = 50\n",
        "\n",
        "def extract_fft_features(signal, fs):\n",
        "    \"\"\"Computes FFT features for a given time-series signal\"\"\"\n",
        "    N = len(signal)  # Length of the signal (6000)\n",
        "    fft_values = fft(signal)  # Apply FFT\n",
        "    fft_magnitudes = np.abs(fft_values)[:N//2]  # Keep only positive frequencies\n",
        "    freqs = np.fft.fftfreq(N, d=1/fs)[:N//2]  # Frequency bins\n",
        "\n",
        "    # Feature Extraction\n",
        "    dominant_freq = freqs[np.argmax(fft_magnitudes)]  # Frequency with max amplitude\n",
        "    spectral_energy = np.sum(fft_magnitudes**2)  # Total power\n",
        "    spectral_entropy = -np.sum((fft_magnitudes/np.sum(fft_magnitudes)) * np.log(fft_magnitudes/np.sum(fft_magnitudes)))  # Entropy\n",
        "\n",
        "    return dominant_freq, spectral_energy, spectral_entropy\n",
        "\n",
        "# Apply FFT feature extraction to each row (cycle)\n",
        "fft_features = df_pressure.apply(lambda row: extract_fft_features(row.values, fs), axis=1)\n",
        "\n",
        "# Convert list of tuples into DataFrame\n",
        "fft_df = pd.DataFrame(fft_features.tolist(), columns=['Dominant_Freq', 'Spectral_Energy', 'Sperctral_Entropy'])\n",
        "\n",
        "# Combine FFT features with original cycle labels (if available)\n",
        "fft_df.to_csv(\"fft_features.csv\", index=False)\n",
        "print(fft_df.head())"
      ],
      "metadata": {
        "id": "Z517GK3NNKdr",
        "outputId": "4fefef4a-6a2e-4672-9f29-bbbb442d5771",
        "colab": {
          "base_uri": "https://localhost:8080/"
        }
      },
      "execution_count": 168,
      "outputs": [
        {
          "output_type": "stream",
          "name": "stdout",
          "text": [
            "   Dominant_Freq  Spectral_Energy  Sperctral_Entropy\n",
            "0            0.0     5.895798e+12           6.425514\n",
            "1            0.0     5.883376e+12           6.412172\n",
            "2            0.0     5.862218e+12           6.411171\n",
            "3            0.0     5.849176e+12           6.403472\n",
            "4            0.0     5.833152e+12           6.405609\n"
          ]
        }
      ]
    }
  ],
  "metadata": {
    "colab": {
      "provenance": [],
      "include_colab_link": true
    },
    "kernelspec": {
      "display_name": ".venv",
      "language": "python",
      "name": "python3"
    },
    "language_info": {
      "codemirror_mode": {
        "name": "ipython",
        "version": 3
      },
      "file_extension": ".py",
      "mimetype": "text/x-python",
      "name": "python",
      "nbconvert_exporter": "python",
      "pygments_lexer": "ipython3",
      "version": "3.12.3"
    }
  },
  "nbformat": 4,
  "nbformat_minor": 0
}