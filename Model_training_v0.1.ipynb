{
  "cells": [
    {
      "cell_type": "markdown",
      "metadata": {
        "colab_type": "text",
        "id": "view-in-github"
      },
      "source": [
        "<a href=\"https://colab.research.google.com/github/RealThanosP/pred-main-mod/blob/main/Model_training_v0.1.ipynb\" target=\"_parent\"><img src=\"https://colab.research.google.com/assets/colab-badge.svg\" alt=\"Open In Colab\"/></a>"
      ]
    },
    {
      "cell_type": "markdown",
      "metadata": {
        "id": "D0JVxmu-RRxV"
      },
      "source": [
        "# Clone repository from github"
      ]
    },
    {
      "cell_type": "markdown",
      "metadata": {
        "id": "KKVqme6SEd55"
      },
      "source": [
        "Τα πρώτα ειναι copy paste απο τον κώδικα του θανου"
      ]
    },
    {
      "cell_type": "code",
      "execution_count": 1,
      "metadata": {
        "colab": {
          "base_uri": "https://localhost:8080/"
        },
        "id": "e9Mk1FVlRPkG",
        "outputId": "4f76dab3-a579-42fb-9fea-cdd6cc33c7c3"
      },
      "outputs": [
        {
          "name": "stdout",
          "output_type": "stream",
          "text": [
            "Cloning into 'pred-main-mod'...\n",
            "remote: Enumerating objects: 205, done.\u001b[K\n",
            "remote: Counting objects: 100% (37/37), done.\u001b[K\n",
            "remote: Compressing objects: 100% (32/32), done.\u001b[K\n",
            "remote: Total 205 (delta 24), reused 9 (delta 5), pack-reused 168 (from 4)\u001b[K\n",
            "Receiving objects: 100% (205/205), 96.56 MiB | 4.50 MiB/s, done.\n",
            "Resolving deltas: 100% (118/118), done.\n",
            "Updating files: 100% (31/31), done.\n",
            "/content/pred-main-mod\n"
          ]
        }
      ],
      "source": [
        "# Load the data on the server session\n",
        "!git clone https://github.com/RealThanosP/pred-main-mod\n",
        "\n",
        "# Change your working directory inside the repository\n",
        "%cd pred-main-mod"
      ]
    },
    {
      "cell_type": "markdown",
      "metadata": {
        "id": "exvom2jkSnAz"
      },
      "source": [
        "# Review dataset"
      ]
    },
    {
      "cell_type": "code",
      "execution_count": 2,
      "metadata": {
        "id": "yPliY_J1Sigr"
      },
      "outputs": [
        {
          "ename": "ModuleNotFoundError",
          "evalue": "No module named 'imblearn'",
          "output_type": "error",
          "traceback": [
            "\u001b[31m---------------------------------------------------------------------------\u001b[39m",
            "\u001b[31mModuleNotFoundError\u001b[39m                       Traceback (most recent call last)",
            "\u001b[36mCell\u001b[39m\u001b[36m \u001b[39m\u001b[32mIn[2]\u001b[39m\u001b[32m, line 5\u001b[39m\n\u001b[32m      3\u001b[39m \u001b[38;5;28;01mimport\u001b[39;00m\u001b[38;5;250m \u001b[39m\u001b[34;01mmatplotlib\u001b[39;00m\u001b[34;01m.\u001b[39;00m\u001b[34;01mpyplot\u001b[39;00m\u001b[38;5;250m \u001b[39m\u001b[38;5;28;01mas\u001b[39;00m\u001b[38;5;250m \u001b[39m\u001b[34;01mplt\u001b[39;00m\n\u001b[32m      4\u001b[39m \u001b[38;5;28;01mfrom\u001b[39;00m\u001b[38;5;250m \u001b[39m\u001b[34;01msklearn\u001b[39;00m\u001b[34;01m.\u001b[39;00m\u001b[34;01mpreprocessing\u001b[39;00m\u001b[38;5;250m \u001b[39m\u001b[38;5;28;01mimport\u001b[39;00m StandardScaler\n\u001b[32m----> \u001b[39m\u001b[32m5\u001b[39m \u001b[38;5;28;01mfrom\u001b[39;00m\u001b[38;5;250m \u001b[39m\u001b[34;01mimblearn\u001b[39;00m\u001b[34;01m.\u001b[39;00m\u001b[34;01mover_sampling\u001b[39;00m\u001b[38;5;250m \u001b[39m\u001b[38;5;28;01mimport\u001b[39;00m RandomOverSampler\n\u001b[32m      6\u001b[39m \u001b[38;5;28;01mfrom\u001b[39;00m\u001b[38;5;250m \u001b[39m\u001b[34;01msklearn\u001b[39;00m\u001b[34;01m.\u001b[39;00m\u001b[34;01mneighbors\u001b[39;00m\u001b[38;5;250m \u001b[39m\u001b[38;5;28;01mimport\u001b[39;00m KNeighborsClassifier\n\u001b[32m      7\u001b[39m \u001b[38;5;28;01mfrom\u001b[39;00m\u001b[38;5;250m \u001b[39m\u001b[34;01msklearn\u001b[39;00m\u001b[34;01m.\u001b[39;00m\u001b[34;01mmetrics\u001b[39;00m\u001b[38;5;250m \u001b[39m\u001b[38;5;28;01mimport\u001b[39;00m classification_report\n",
            "\u001b[31mModuleNotFoundError\u001b[39m: No module named 'imblearn'"
          ]
        }
      ],
      "source": [
        "import numpy as np\n",
        "import pandas as pd\n",
        "import matplotlib.pyplot as plt\n",
        "from sklearn.preprocessing import StandardScaler\n",
        "from imblearn.over_sampling import RandomOverSampler\n",
        "from sklearn.neighbors import KNeighborsClassifier\n",
        "from sklearn.metrics import classification_report\n",
        "import os\n",
        "import seaborn as sns"
      ]
    },
    {
      "cell_type": "markdown",
      "metadata": {
        "id": "UBb4N61XRkkY"
      },
      "source": [
        "###Getting the sensor files in a list"
      ]
    },
    {
      "cell_type": "code",
      "execution_count": null,
      "metadata": {
        "id": "sSlbzBlXRkWZ"
      },
      "outputs": [],
      "source": [
        "folder_path = \"data/condition+monitoring+of+hydraulic+systems\"\n",
        "\n",
        "# Define the list of sensors and their corresponding column names\n",
        "sensors = [\n",
        "    \"PS1\", \"PS2\", \"PS3\", \"PS4\", \"PS5\", \"PS6\",  # Pressure sensors\n",
        "    \"EPS1\",  # Motor power\n",
        "    \"FS1\", \"FS2\",  # Volume flow\n",
        "    \"TS1\", \"TS2\", \"TS3\", \"TS4\",  # Temperature sensors\n",
        "    \"VS1\",  # Vibration\n",
        "    \"CE\",  # Cooling efficiency\n",
        "    \"CP\",  # Cooling power\n",
        "    \"SE\"  # Efficiency factor\n",
        "]"
      ]
    },
    {
      "cell_type": "code",
      "execution_count": null,
      "metadata": {
        "id": "BgjKrCntR3Mk"
      },
      "outputs": [],
      "source": [
        "# Gets all the text files from dataset\n",
        "txt_files = [f for f in os.listdir(folder_path) if f.endswith('.txt')]\n",
        "\n",
        "# Keeps only the data that have a sensor name in the filename\n",
        "sensor_file_path_list = [f\"{folder_path}/{f}\" for f in txt_files if any(sensor in f for sensor in sensors)]\n",
        "sensor_file_path_list.sort()"
      ]
    },
    {
      "cell_type": "markdown",
      "metadata": {
        "id": "bNbSmo_BVGTw"
      },
      "source": [
        "###Loading Data"
      ]
    },
    {
      "cell_type": "markdown",
      "metadata": {
        "id": "I9f59RpuVXap"
      },
      "source": [
        "Based on the description the classification for the data is:\n",
        "\n",
        "The target condition values are cycle-wise annotated in �profile.txt� (tab-delimited). As before, the row number represents the cycle number. The columns are\n",
        "\n",
        "1: Cooler condition / %: 3: close to total failure 20: reduced effifiency 100: full efficiency\n",
        "\n",
        "2: Valve condition / %: 100: optimal switching behavior 90: small lag 80: severe lag 73: close to total failure\n",
        "\n",
        "3: Internal pump leakage: 0: no leakage 1: weak leakage 2: severe leakage\n",
        "\n",
        "4: Hydraulic accumulator / bar: 130: optimal pressure 115: slightly reduced pressure 100: severely reduced pressure 90: close to total failure\n",
        "\n",
        "5: stable flag: 0: conditions were stable 1: static conditions might not have been reached yet"
      ]
    },
    {
      "cell_type": "code",
      "execution_count": null,
      "metadata": {
        "colab": {
          "base_uri": "https://localhost:8080/",
          "height": 423
        },
        "id": "BNsBsv2NSfma",
        "outputId": "1891ceaa-9c00-48b1-f6ec-c80af3e6940c"
      },
      "outputs": [],
      "source": [
        "# profile\n",
        "profile = pd.read_csv(\"data/condition+monitoring+of+hydraulic+systems/profile.txt\", sep=\"\\t\", header=None)\n",
        "profile.columns = [\"cooler_condition\", \"valve_condition\", \"internal_pump_leakage\", \"hydraulic_accumulator\", \"stable_flag\"]\n",
        "profile"
      ]
    },
    {
      "cell_type": "markdown",
      "metadata": {
        "id": "aanWqr02X80a"
      },
      "source": [
        "#Data preperation"
      ]
    },
    {
      "cell_type": "markdown",
      "metadata": {
        "id": "M_af2vuFYBjy"
      },
      "source": [
        "Θα δοκιμασω να κανω ολα τα αρχεια των αισθητηρων να περιεχουν πληροφορειες mean, rms, max, min κλπ, να τα κάνω ένα ενιαίο dataset (και το profile μεσα) και να βαλω ως target column το stable flag."
      ]
    },
    {
      "cell_type": "code",
      "execution_count": null,
      "metadata": {
        "id": "-JWOZMA_WAql"
      },
      "outputs": [],
      "source": [
        "# load all the files as seperate DataFrames with the file name as name\n",
        "sensor_dfs = {}\n",
        "for file_path in sensor_file_path_list:\n",
        "    # remove the .txt\n",
        "    file_name = os.path.splitext(os.path.basename(file_path))[0]\n",
        "\n",
        "    # read the file and save it with the right name\n",
        "    sensor_dfs[file_name] = pd.read_csv(file_path, sep=\"\\t\", header=None)"
      ]
    },
    {
      "cell_type": "markdown",
      "metadata": {
        "id": "sHgsjGxglMN6"
      },
      "source": [
        "### Feature engineering (statistical)"
      ]
    },
    {
      "cell_type": "code",
      "execution_count": null,
      "metadata": {
        "id": "asvq8K7wlobE"
      },
      "outputs": [],
      "source": [
        "# function that does the feature engineering\n",
        "def create_stats(sensor_name, df):\n",
        "    # We get the DataFrame dynamically from the name\n",
        "    # Calculate statistics\n",
        "    stats = pd.DataFrame({\n",
        "        'mean'+ sensor_name: df.mean(axis=1),\n",
        "        'std'+ sensor_name: df.std(axis=1),\n",
        "        'min'+ sensor_name: df.min(axis=1),\n",
        "        'max'+ sensor_name: df.max(axis=1),\n",
        "        'range'+ sensor_name: df.max(axis=1) - df.min(axis=1),\n",
        "        'rms'+ sensor_name: (df.pow(2).mean(axis=1)).pow(0.5)\n",
        "    })\n",
        "    stat_names = [f'mean{sensor_name}', f'std{sensor_name}', f'min{sensor_name}', f'max{sensor_name}', f'range{sensor_name}', f'rms{sensor_name}']\n",
        "    return stats"
      ]
    },
    {
      "cell_type": "code",
      "execution_count": null,
      "metadata": {
        "id": "k3OPi-4510hL"
      },
      "outputs": [],
      "source": [
        "# dictionary to save the names as keys and the dataframes as values\n",
        "stats_dfs = {}\n",
        "\n",
        "for sensor in sensors:\n",
        "    stats_dfs[f'{sensor}_stats'] = create_stats(sensor, sensor_dfs[sensor])\n",
        "\n",
        "# Converts the keys of the dictionary to variables\n",
        "globals().update(stats_dfs)"
      ]
    },
    {
      "cell_type": "code",
      "execution_count": null,
      "metadata": {
        "colab": {
          "base_uri": "https://localhost:8080/",
          "height": 423
        },
        "id": "c76xEI_x44Iy",
        "outputId": "7c09c81f-fdcc-4cc0-8cab-5942dae7ce83"
      },
      "outputs": [],
      "source": [
        "PS1_stats"
      ]
    },
    {
      "cell_type": "markdown",
      "metadata": {
        "id": "dpPIkQqgN47Z"
      },
      "source": [
        "### Combine the data by category"
      ]
    },
    {
      "cell_type": "code",
      "execution_count": null,
      "metadata": {
        "id": "Hb6VYmS2hL8K"
      },
      "outputs": [],
      "source": [
        "# Have all the data of the same sensor-typ in different lists\n",
        "ps_stats = [PS1_stats, PS2_stats, PS3_stats, PS4_stats, PS5_stats, PS6_stats]\n",
        "fs_stats = [FS1_stats, FS2_stats]\n",
        "ts_stats = [TS1_stats, TS2_stats, TS3_stats, TS4_stats]"
      ]
    },
    {
      "cell_type": "code",
      "execution_count": null,
      "metadata": {
        "id": "tGkLyv7db5Md"
      },
      "outputs": [],
      "source": [
        "stat_names = [\"mean\", \"std\", \"min\", \"max\", \"range\", \"rms\"]"
      ]
    },
    {
      "cell_type": "code",
      "execution_count": null,
      "metadata": {
        "id": "GXYNbvYbGitu"
      },
      "outputs": [],
      "source": [
        "def combine_sensor_stats(df_list: list[pd.DataFrame], prefix: str, stat_names: list[str]) -> pd.DataFrame:\n",
        "    \"\"\"\n",
        "    Adds corresponding statistical features (column-wise and row-wise) from multiple DataFrames.\n",
        "\n",
        "    Parameters:\n",
        "    - df_list (list[pd.DataFrame]): List of pandas DataFrames with the same shape, columns, and index.\n",
        "    - prefix (str): Prefix to apply to each statistical feature (e.g., 'PS').\n",
        "    - stat_names (list[str]): List of statistical feature names (e.g., ['mean', 'std', 'min', 'max', 'range', 'rms']).\n",
        "\n",
        "    Returns:\n",
        "    - pd.DataFrame: A new DataFrame with summed columns for each statistical feature, with prefixed column names.\n",
        "    \"\"\"\n",
        "    # Initialize individual stat containers\n",
        "    mean_df, std_df, min_df, max_df, range_df, rms_df = [pd.DataFrame() for _ in range(6)]\n",
        "\n",
        "    for df in df_list:\n",
        "        # Rename columns according to the prefix\n",
        "        df.columns = [f\"{stat}{prefix}\" for stat in stat_names]\n",
        "\n",
        "        # Extract individual columns\n",
        "        mean = df[f\"mean{prefix}\"]\n",
        "        std = df[f\"std{prefix}\"]\n",
        "        min_ = df[f\"min{prefix}\"]\n",
        "        max_ = df[f\"max{prefix}\"]\n",
        "        range_stat = df[f\"range{prefix}\"]\n",
        "        rms = df[f\"rms{prefix}\"]\n",
        "\n",
        "        # Accumulate sums\n",
        "        mean_df = pd.concat([mean_df, mean], axis=1).sum(axis=1)\n",
        "        std_df = pd.concat([std_df, std], axis=1).sum(axis=1)\n",
        "        min_df = pd.concat([min_df, min_], axis=1).sum(axis=1)\n",
        "        max_df = pd.concat([max_df, max_], axis=1).sum(axis=1)\n",
        "        range_df = pd.concat([range_df, range_stat], axis=1).sum(axis=1)\n",
        "        rms_df = pd.concat([rms_df, rms], axis=1).sum(axis=1)\n",
        "\n",
        "    # Combine all the summed stats into a final DataFrame\n",
        "    summed_df = pd.concat([mean_df, std_df, min_df, max_df, range_df, rms_df], axis=1)\n",
        "    summed_df.columns = [f\"{stat}{prefix}\" for stat in stat_names]\n",
        "\n",
        "    return summed_df"
      ]
    },
    {
      "cell_type": "code",
      "execution_count": null,
      "metadata": {
        "id": "MYm_JUK0lRe2"
      },
      "outputs": [],
      "source": [
        "combined_stats_ps = combine_sensor_stats(ps_stats, \"PS\", stat_names)\n",
        "combined_stats_fs = combine_sensor_stats(fs_stats, \"FS\", stat_names)\n",
        "combined_stats_ts = combine_sensor_stats(ts_stats, \"TS\", stat_names)"
      ]
    },
    {
      "cell_type": "code",
      "execution_count": null,
      "metadata": {
        "id": "2FQvbZP655n1"
      },
      "outputs": [],
      "source": [
        "# Remake the sensors list\n",
        "sensors_for_statistics = [\n",
        "    \"PS\",  # Pressure sensors\n",
        "    \"EPS1\",  # Motor power\n",
        "    \"FS\",  # Volume flow\n",
        "    \"TS\",  # Temperature sensors\n",
        "    \"VS1\",  # Vibration\n",
        "    \"CE\",  # Cooling efficiency\n",
        "    \"CP\",  # Cooling power\n",
        "    \"SE\"  # Efficiency factor\n",
        "]"
      ]
    },
    {
      "cell_type": "markdown",
      "metadata": {
        "id": "BRbMuhut2GvY"
      },
      "source": [
        "###Feature Engineering (frequency)"
      ]
    },
    {
      "cell_type": "code",
      "execution_count": null,
      "metadata": {
        "id": "HtgpAI1p2dbz"
      },
      "outputs": [],
      "source": [
        "from scipy.fft import rfft, rfftfreq\n",
        "\n",
        "def fft_analysis(data, sampling_rate_hz):\n",
        "    \"\"\"\n",
        "    Perform FFT analysis on each row of raw sensor data.\n",
        "\n",
        "    Parameters:\n",
        "    - data (np.ndarray or pd.DataFrame): shape (2205, N), raw time-domain signals.\n",
        "    - sampling_rate_hz (int): Sampling rate in Hz.\n",
        "\n",
        "    Returns:\n",
        "    - pd.DataFrame: DataFrame of FFT magnitudes with frequency bin labels as columns.\n",
        "    \"\"\"\n",
        "    if isinstance(data, pd.DataFrame):\n",
        "        data = data.values\n",
        "\n",
        "    num_instances, num_samples = data.shape\n",
        "\n",
        "    # Frequency bins: same for all rows\n",
        "    freqs = rfftfreq(num_samples, d=1/sampling_rate_hz)\n",
        "\n",
        "    # Apply FFT row-wise, get magnitude spectrum\n",
        "    fft_magnitudes = np.abs(rfft(data, axis=1))\n",
        "\n",
        "    # Convert to DataFrame with frequency labels\n",
        "    fft_df = pd.DataFrame(fft_magnitudes, columns=[f\"{round(f, 2)}Hz\" for f in freqs])\n",
        "\n",
        "    return fft_df"
      ]
    },
    {
      "cell_type": "code",
      "execution_count": null,
      "metadata": {
        "id": "g-AjtLxf2fzr"
      },
      "outputs": [],
      "source": [
        "# Plotting fft analysis\n",
        "def plot_fft_spectrum(fft_df, instance_indices=[0], max_freq=None):\n",
        "    \"\"\"\n",
        "    Plot FFT spectrum for selected instance(s).\n",
        "\n",
        "    Parameters:\n",
        "    - fft_df (pd.DataFrame): DataFrame of FFT magnitudes (rows = instances, columns = frequency bins).\n",
        "    - instance_indices (list): which instance(s) to plot from the dataset.\n",
        "    - max_freq (float): maximum frequency to show (e.g., 200 Hz).\n",
        "    \"\"\"\n",
        "    # Extract frequency values from column names\n",
        "    freqs = [float(col.replace('freq_', '').replace('Hz', '')) for col in fft_df.columns]\n",
        "\n",
        "    plt.figure(figsize=(12, 6))\n",
        "\n",
        "    for idx in instance_indices:\n",
        "        plt.plot(freqs, fft_df.iloc[idx], label=f'Instance {idx}')\n",
        "\n",
        "    plt.xlabel(\"Frequency (Hz)\")\n",
        "    plt.ylabel(\"Magnitude\")\n",
        "    plt.title(\"FFT Spectrum\")\n",
        "    if max_freq:\n",
        "        plt.xlim(0, max_freq)\n",
        "    plt.grid(True)\n",
        "    plt.tight_layout()\n",
        "    plt.show()\n"
      ]
    },
    {
      "cell_type": "markdown",
      "metadata": {
        "id": "uXNZOXIX2zMw"
      },
      "source": [
        "Applying fft analysis on to all the dataframes"
      ]
    },
    {
      "cell_type": "code",
      "execution_count": null,
      "metadata": {
        "id": "wqpGYJ_M3OFG"
      },
      "outputs": [],
      "source": [
        "# Creating a dictionary with keys the name and as values a tuple (df, sampling_rate)\n",
        "sampling_rates_dict = {\n",
        "    'PS1': 100, 'PS2': 100, 'PS3': 100, 'PS4': 100, 'PS5': 100, 'PS6': 100,\n",
        "    'EPS1': 100, 'FS1': 10, 'FS2': 10,\n",
        "    'TS1': 1, 'TS2': 1, 'TS3': 1, 'TS4': 1,\n",
        "    'VS1': 1,\n",
        "    'CE': 1, 'CP': 1, 'SE': 1\n",
        "}\n",
        "\n",
        "fft_dfs = {}\n",
        "\n",
        "for sensor in sensors:\n",
        "    fft_dfs[sensor] = (fft_analysis(sensor_dfs[sensor], sampling_rates_dict[sensor]), sampling_rates_dict[sensor])"
      ]
    },
    {
      "cell_type": "markdown",
      "metadata": {
        "id": "LHxf57lo8bHi"
      },
      "source": [
        "###Compine all the data"
      ]
    },
    {
      "cell_type": "code",
      "execution_count": null,
      "metadata": {
        "colab": {
          "base_uri": "https://localhost:8080/",
          "height": 443
        },
        "id": "yD9RjOIm50FW",
        "outputId": "d3a89248-b1ad-45db-8c96-6e7fe9e7898e"
      },
      "outputs": [],
      "source": [
        "combined_data = pd.concat([combined_stats_ps, combined_stats_fs, combined_stats_ts, CE_stats, CP_stats, EPS1_stats, VS1_stats, SE_stats], axis=1)\n",
        "combined_data"
      ]
    },
    {
      "cell_type": "code",
      "execution_count": null,
      "metadata": {
        "colab": {
          "base_uri": "https://localhost:8080/",
          "height": 443
        },
        "id": "TvCDB3Ao-YMf",
        "outputId": "fd4af685-d8c6-4b7a-96cd-989ec10bd4b6"
      },
      "outputs": [],
      "source": [
        "# the dataset for scaling\n",
        "profile_without_first_and_last_columns = profile.iloc[:, :-1]\n",
        "data_for_scalling = pd.concat([combined_data, profile_without_first_and_last_columns], axis=1)\n",
        "data_for_scalling"
      ]
    },
    {
      "cell_type": "markdown",
      "metadata": {
        "id": "zSdxccFJOuvB"
      },
      "source": [
        "### Scaling the data"
      ]
    },
    {
      "cell_type": "markdown",
      "metadata": {
        "id": "jsay6T3a8P8f"
      },
      "source": [
        "εδω καλο θα ηταν να ονοματησω σωστα τισ στηλες του Dataframe\n",
        "**FIX το εκανε ο Θάνος :) **"
      ]
    },
    {
      "cell_type": "code",
      "execution_count": null,
      "metadata": {
        "colab": {
          "base_uri": "https://localhost:8080/",
          "height": 443
        },
        "id": "aOq43CtVQfyK",
        "outputId": "5f234ff6-4b9b-4f6d-955c-5c77dc96f90a"
      },
      "outputs": [],
      "source": [
        "from sklearn.preprocessing import MinMaxScaler\n",
        "scaler = StandardScaler()\n",
        "\n",
        "scaled_data = scaler.fit_transform(data_for_scalling)\n",
        "scaled_data_dtset = pd.DataFrame(scaled_data, columns=data_for_scalling.columns) # Just a columns argument needed\n",
        "scaled_data_dtset"
      ]
    },
    {
      "cell_type": "code",
      "execution_count": null,
      "metadata": {
        "colab": {
          "base_uri": "https://localhost:8080/",
          "height": 443
        },
        "id": "d0-eKNlPAlNF",
        "outputId": "a7dfe3aa-11dc-4052-ef1f-67f0a8beae20"
      },
      "outputs": [],
      "source": [
        "profile_last_column = profile.iloc[:, -1]\n",
        "total_data = pd.concat([scaled_data_dtset, profile_last_column], axis = 1)\n",
        "total_data"
      ]
    },
    {
      "cell_type": "markdown",
      "metadata": {
        "id": "-VEAL6V8g86G"
      },
      "source": [
        "# Feature creation"
      ]
    },
    {
      "cell_type": "markdown",
      "metadata": {
        "id": "IfqloxUA4dWV"
      },
      "source": [
        "### Reviewing the data"
      ]
    },
    {
      "cell_type": "code",
      "execution_count": null,
      "metadata": {
        "colab": {
          "base_uri": "https://localhost:8080/",
          "height": 443
        },
        "id": "mzEisQpgvWmE",
        "outputId": "f4f5f1ec-0511-4f34-9f9a-cb26a61b5f8e"
      },
      "outputs": [
        {
          "ename": "",
          "evalue": "",
          "output_type": "error",
          "traceback": [
            "\u001b[1;31mRunning cells with 'Python 3.11.8' requires the ipykernel package.\n",
            "\u001b[1;31m<a href='command:jupyter.createPythonEnvAndSelectController'>Create a Python Environment</a> with the required packages."
          ]
        }
      ],
      "source": [
        "total_data"
      ]
    },
    {
      "cell_type": "markdown",
      "metadata": {
        "id": "J1a_RqYfxi1z"
      },
      "source": [
        "### Create Coefficient of Variance (CV)\n",
        "---\n",
        "Measures relative variability on the sensor measurements. High CV means erratic sensor motion which may impact maintenance issues.\n",
        "\n",
        "---\n",
        "**Formula:** \\begin{align*}\n",
        "          \\text{CV} &= \\frac{\\text{std}}{\\text{mean}}\n",
        "          \\end{align*}"
      ]
    },
    {
      "cell_type": "code",
      "execution_count": null,
      "metadata": {
        "id": "NuK6xfxh77Fj"
      },
      "outputs": [],
      "source": [
        "def compute_coefficient_variance(row, sensors):\n",
        "    cv_values = {}\n",
        "    for name in sensors:\n",
        "        mean = row[f'mean{name}']\n",
        "        std = row[f'std{name}']\n",
        "        cv_values[f'cv{name}'] = std / (mean + 1e-6)  # Avoid division by zero\n",
        "    return cv_values"
      ]
    },
    {
      "cell_type": "code",
      "execution_count": null,
      "metadata": {
        "colab": {
          "base_uri": "https://localhost:8080/",
          "height": 423
        },
        "id": "VwrbLza68l5J",
        "outputId": "1447a2fb-3655-47f2-9150-cea4f0ba35e8"
      },
      "outputs": [],
      "source": [
        "# Apply to the dataframe\n",
        "copy_data = total_data.copy()\n",
        "cv_df = copy_data.apply(lambda row: compute_coefficient_variance(row, sensors_for_statistics), axis=1, result_type='expand')\n",
        "\n",
        "# Scale the data\n",
        "cv_df = pd.DataFrame(scaler.fit_transform(cv_df), columns=cv_df.columns)\n",
        "cv_df"
      ]
    },
    {
      "cell_type": "markdown",
      "metadata": {
        "id": "L89P4QlE11y4"
      },
      "source": [
        "### Create Signal Stability Ratio\n",
        "---\n",
        "In predictive-maintenance contexts, sensor signals serve as fundamental indicators of machine health. Fluctuations in these signals often foreshadow potential failures. A “stability” metric aims to quantify how reliably each sensor remains within safe operating conditions. Below, we present two distinct formulations that capture signal stability from different perspectives.\n",
        "\n",
        "---\n",
        "\n",
        "\\begin{align*}\n",
        "S_{\\text{range}, i} &= \\frac{\\text{mean}_i}{\\text{range}_i + 1 \\times 10^{-6}},\\\\[6pt]\n",
        "S_{\\text{margin}, i} &= \\frac{\\max\\!\\Bigl(0,\\; U_i \\;-\\; \\bigl[\\text{mean}_i + \\alpha\\,\\cdot\\,\\text{std}_i \\bigr]\\Bigr)}{(U_i - L_i) + 1 \\times 10^{-6}}.\n",
        "\\end{align*}\n",
        "\n",
        "\n"
      ]
    },
    {
      "cell_type": "code",
      "execution_count": null,
      "metadata": {
        "colab": {
          "base_uri": "https://localhost:8080/",
          "height": 423
        },
        "id": "WLV5o2pb11y8",
        "outputId": "a961d2bc-9465-40cf-d874-b0d8c0a45363"
      },
      "outputs": [],
      "source": [
        "def compute_stability(row, sensors):\n",
        "    \"\"\"\n",
        "    Computes two stability metrics for each sensor:\n",
        "      1. Range-based: mean / (range + 1e-6)      -> stabilityRange{name}\n",
        "      2. Margin-based: (U - (mean + alpha*std)) / (U - L + 1e-6) -> stabilityMargin{name}\n",
        "    \"\"\"\n",
        "\n",
        "    stability_values = {}\n",
        "    epsilon = 1e-6\n",
        "    alpha = 1.0  # You can tweak this factor if you like\n",
        "\n",
        "    for name in sensors:\n",
        "        # 1) Original Range-Based Stability\n",
        "        mean_val = row[f'mean{name}']\n",
        "        range_val = row[f'range{name}']\n",
        "        stability_values[f'stabilityRange{name}'] = mean_val / (range_val + epsilon)\n",
        "\n",
        "        # 2) Margin-to-Limits Stability (if columns exist)\n",
        "        #    If you do not have these columns, comment this section out or add them to your data.\n",
        "        std_col = f'std{name}'\n",
        "        upper_col = f'upperLimit{name}'\n",
        "        lower_col = f'lowerLimit{name}'\n",
        "\n",
        "        if std_col in row and upper_col in row and lower_col in row:\n",
        "            std_val = row[std_col]\n",
        "            upper_limit = row[upper_col]\n",
        "            lower_limit = row[lower_col]\n",
        "\n",
        "            margin = upper_limit - (mean_val + alpha * std_val)\n",
        "            if margin < 0:\n",
        "                margin = 0\n",
        "            denom = (upper_limit - lower_limit) + epsilon\n",
        "            stability_values[f'stabilityMargin{name}'] = margin / denom\n",
        "\n",
        "        # If not found, we simply skip or could set some default\n",
        "\n",
        "    return stability_values\n",
        "\n",
        "# Apply the function row by row\n",
        "stability_df = copy_data.apply(\n",
        "    lambda row: compute_stability(row, sensors_for_statistics),\n",
        "    axis=1,\n",
        "    result_type='expand'\n",
        ")\n",
        "\n",
        "# Scale the data\n",
        "stability_df = pd.DataFrame(\n",
        "    scaler.fit_transform(stability_df),\n",
        "    columns=stability_df.columns\n",
        ")\n",
        "\n",
        "stability_df"
      ]
    },
    {
      "cell_type": "markdown",
      "metadata": {
        "id": "KNAxcdqw11y-"
      },
      "source": [
        "### Creating Exponential Moving Average (EMA)\n",
        "---\n",
        "Smoothens the signal and helps detect long-term trends on slow mechanical tear"
      ]
    },
    {
      "cell_type": "code",
      "execution_count": null,
      "metadata": {
        "colab": {
          "base_uri": "https://localhost:8080/",
          "height": 443
        },
        "id": "61GsGZQg9c13",
        "outputId": "18dc08f4-9de3-4515-cc90-9b76a53bda47"
      },
      "outputs": [],
      "source": [
        "copy_data"
      ]
    },
    {
      "cell_type": "code",
      "execution_count": null,
      "metadata": {
        "id": "8or7_hBFCYoF"
      },
      "outputs": [],
      "source": [
        "non_ema_columns = [\n",
        "    'cooler_condition',\n",
        "    'valve_condition',\n",
        "    'internal_pump_leakage',\n",
        "    'hydraulic_accumulator',\n",
        "    'stable_flag'\n",
        "]\n",
        "\n",
        "ema_df = copy_data.drop(columns=non_ema_columns)"
      ]
    },
    {
      "cell_type": "markdown",
      "metadata": {
        "id": "I_vlzTEjCjE0"
      },
      "source": [
        "ema_span checks how sensitive EMA is to most recent values\n",
        "\n",
        "The smaller the span, the faster the EMA reacts to changes in the data (less smoothing).\n",
        "\n",
        "The larger the span, the slower and smoother the EMA becomes (more smoothing)."
      ]
    },
    {
      "cell_type": "code",
      "execution_count": null,
      "metadata": {
        "id": "Xrn1x1oPCi9D"
      },
      "outputs": [],
      "source": [
        "ema_span = 5 #το 5 μπηκε αυθαιρετα"
      ]
    },
    {
      "cell_type": "markdown",
      "metadata": {
        "id": "aokcfeQbDUE0"
      },
      "source": [
        "Creation of new columns with _ema at the end of their names\n",
        "\n",
        "Apply the EMA in each column"
      ]
    },
    {
      "cell_type": "code",
      "execution_count": null,
      "metadata": {
        "id": "l60AEhdSCogJ"
      },
      "outputs": [],
      "source": [
        "for col in ema_df.columns:\n",
        "    ema_col_name = col + '_ema'\n",
        "    ema_df[ema_col_name] = ema_df[col].ewm(span=ema_span, adjust=False).mean()"
      ]
    },
    {
      "cell_type": "markdown",
      "metadata": {
        "id": "t03TARPdDXdu"
      },
      "source": [
        "keeping only the ema features"
      ]
    },
    {
      "cell_type": "code",
      "execution_count": null,
      "metadata": {
        "colab": {
          "base_uri": "https://localhost:8080/",
          "height": 443
        },
        "id": "8oVPax3SCz1N",
        "outputId": "490af497-83df-47dd-cbce-1f2a9f25246b"
      },
      "outputs": [],
      "source": [
        "ema_only = ema_df[[col for col in ema_df.columns if col.endswith('_ema')]]\n",
        "ema_only"
      ]
    },
    {
      "cell_type": "markdown",
      "metadata": {
        "id": "NyAVgBEO4rv-"
      },
      "source": [
        "### Creating Frequency Domain Features (FFT)\n",
        "---\n",
        "Frequency peaks reveal unwanted mechanical wear.\n",
        "---\n",
        "-    Band Power Features\n",
        "    - Average/sum of FFT magnitudes in frequency bands\n",
        "\n",
        "-    Top-N Peak Features\n",
        "\n",
        "    - Frequencies and magnitudes of top N peaks\n",
        "    - Useful for detecting dominant fault frequencies\n",
        "\n",
        "-     Spectral Descriptors\n",
        "\n",
        "        - Spectral Centroid\n",
        "        - Spectral Entropy\n",
        "        - Spectral Flatness"
      ]
    },
    {
      "cell_type": "markdown",
      "metadata": {
        "id": "-sVvV2C0-FCH"
      },
      "source": [
        "Band power feature\n",
        "Average sum of FFT magnitudes in frequency bands"
      ]
    },
    {
      "cell_type": "code",
      "execution_count": null,
      "metadata": {
        "id": "KPSpfr8M-IkS"
      },
      "outputs": [],
      "source": [
        "def band_power(fft_df, freqs, band_limits, name):\n",
        "    \"\"\"\n",
        "    Calculate band power from FFT magnitudes.\n",
        "\n",
        "    Args:\n",
        "        fft_df (pd.DataFrame): The DataFrame containing FFT magnitudes.\n",
        "        freqs (np.ndarray): Array of frequencies.\n",
        "        band_limits (list): List of frequency band limits.\n",
        "        name (str): Name of the sensor\n",
        "\n",
        "    Returns:\n",
        "        pd.DataFrame: DataFrame with band power features.\n",
        "    \"\"\"\n",
        "    band_features = {}\n",
        "    for low, high in band_limits:\n",
        "        band_name = f\"{name}{int(low)}_{int(high)}Hz\"\n",
        "        mask = (freqs >= low) & (freqs < high)\n",
        "        band_features[band_name] = fft_df.iloc[:, mask].mean(axis=1)\n",
        "\n",
        "    band_df = pd.DataFrame(band_features)\n",
        "    band_df = band_df.dropna(axis=1, how='any')\n",
        "\n",
        "    return band_df"
      ]
    },
    {
      "cell_type": "code",
      "execution_count": null,
      "metadata": {
        "id": "mFBpxwpbU0Zf"
      },
      "outputs": [],
      "source": [
        "# Helper funcion to create correctly the freqs array\n",
        "def get_freqs(fft_df, sampling_rate_hz):\n",
        "    n_bins = fft_df.shape[1]  # number of FFT bins (columns)\n",
        "    freqs = np.fft.rfftfreq(n=2 * (n_bins - 1), d=1 / sampling_rate_hz)\n",
        "    return freqs\n"
      ]
    },
    {
      "cell_type": "markdown",
      "metadata": {
        "id": "GsHkom1L-L5u"
      },
      "source": [
        "Top-N-peaks (found that N=3 is optimal)"
      ]
    },
    {
      "cell_type": "code",
      "execution_count": null,
      "metadata": {
        "id": "tFDeJv5L-eFC"
      },
      "outputs": [],
      "source": [
        "from scipy.signal import find_peaks\n",
        "import pandas as pd\n",
        "import numpy as np\n",
        "\n",
        "def top_peaks(fft_df, freqs, name, n=3):\n",
        "    \"\"\"\n",
        "    Extracts top N frequency peaks and returns them in a structured DataFrame.\n",
        "\n",
        "    Parameters:\n",
        "    - fft_df (pd.DataFrame): FFT magnitudes per instance (rows) x frequency bins (columns)\n",
        "    - freqs (np.ndarray): frequency bin centers corresponding to FFT columns\n",
        "    - n (int): Number of top peaks to extract\n",
        "    - name (str): Name of the sensor\n",
        "\n",
        "    Returns:\n",
        "    - pd.DataFrame: with columns [peak1_freq, peak1_mag, peak2_freq, peak2_mag, ...]\n",
        "    \"\"\"\n",
        "    peak_features = []\n",
        "\n",
        "    for _, row in fft_df.iterrows():\n",
        "        peaks, _ = find_peaks(row.values, prominence=1)\n",
        "        peak_mags = row.values[peaks]\n",
        "        top_indices = np.argsort(peak_mags)[-n:]\n",
        "\n",
        "        # Sort by descending magnitude for consistency\n",
        "        sorted_indices = top_indices[np.argsort(-peak_mags[top_indices])]\n",
        "\n",
        "        peak_freqs = freqs[peaks[sorted_indices]]\n",
        "        peak_vals = peak_mags[sorted_indices]\n",
        "\n",
        "        # Pad if fewer than n peaks\n",
        "        if len(peak_freqs) < n:\n",
        "            pad_len = n - len(peak_freqs)\n",
        "            peak_freqs = np.pad(peak_freqs, (0, pad_len), constant_values=np.nan)\n",
        "            peak_vals = np.pad(peak_vals, (0, pad_len), constant_values=np.nan)\n",
        "\n",
        "        feature_row = list(np.column_stack((peak_freqs, peak_vals)).flatten())\n",
        "        peak_features.append(feature_row)\n",
        "\n",
        "    columns = [f\"{name}_peak{i+1}_freq\" if j % 2 == 0 else f\"{name}_peak{i+1}_mag\"\n",
        "               for i in range(n) for j in range(2)]\n",
        "\n",
        "    top_peaks_df = pd.DataFrame(peak_features, columns=columns)\n",
        "    top_peaks_df = top_peaks_df.dropna(axis=1, how='any')\n",
        "\n",
        "    return top_peaks_df\n"
      ]
    },
    {
      "cell_type": "markdown",
      "metadata": {
        "id": "uYr2SIZjAsgu"
      },
      "source": [
        "Spectral Centroid, Entropy and Flatness"
      ]
    },
    {
      "cell_type": "code",
      "execution_count": null,
      "metadata": {
        "id": "3Nih6Qy6A2h_"
      },
      "outputs": [],
      "source": [
        "def spectral_features(fft_df, freqs, name):\n",
        "    \"\"\"\n",
        "    Calculate spectral centroid, entropy, and flatness for each row in the FFT dataframe.\n",
        "\n",
        "    Returns:\n",
        "        pd.DataFrame with columns: [spectral_centroid, spectral_entropy, spectral_flatness]\n",
        "    \"\"\"\n",
        "    spectral_data = []\n",
        "\n",
        "    for _, row in fft_df.iterrows():\n",
        "        magnitudes = row.values\n",
        "        mag_sum = np.sum(magnitudes)\n",
        "\n",
        "        # Avoid divide-by-zero for silent signal rows\n",
        "        if mag_sum == 0:\n",
        "            centroid = np.nan\n",
        "            entropy = np.nan\n",
        "            flatness = np.nan\n",
        "        else:\n",
        "            probs = magnitudes / mag_sum\n",
        "\n",
        "            # Spectral Centroid\n",
        "            centroid = np.sum(freqs * probs)\n",
        "\n",
        "            # Spectral Entropy\n",
        "            entropy = -np.sum(probs * np.log2(probs + 1e-10))  # Add epsilon to avoid log(0)\n",
        "\n",
        "            # Spectral Flatness\n",
        "            geometric_mean = np.exp(np.mean(np.log(magnitudes + 1e-10)))\n",
        "            arithmetic_mean = np.mean(magnitudes)\n",
        "            flatness = geometric_mean / (arithmetic_mean + 1e-10)\n",
        "\n",
        "        spectral_data.append([centroid, entropy, flatness])\n",
        "\n",
        "    return pd.DataFrame(spectral_data, columns=[f\"{name}_spectral_centroid\", f\"{name}_spectral_entropy\", f\"{name}_spectral_flatness\"])"
      ]
    },
    {
      "cell_type": "markdown",
      "metadata": {
        "id": "DkG_jY3WRO-l"
      },
      "source": [
        "Combining the frequency data into a dataframe"
      ]
    },
    {
      "cell_type": "code",
      "execution_count": null,
      "metadata": {
        "id": "CY5VsfFYQDRn"
      },
      "outputs": [],
      "source": [
        "# Frequency\n",
        "band_power_df = pd.DataFrame()\n",
        "top_peaks_df = pd.DataFrame()\n",
        "spectral_df = pd.DataFrame()\n",
        "\n",
        "for sensor in sensors:\n",
        "\n",
        "    freqs = get_freqs(fft_dfs[sensor][0], fft_dfs[sensor][1])\n",
        "\n",
        "    # Band power\n",
        "    band_power_cols = band_power(fft_dfs[sensor][0], freqs, [(0,10),(10, 50)], name=sensor)\n",
        "\n",
        "    # Top N peaks\n",
        "    top_peaks_cols = top_peaks(fft_dfs[sensor][0], freqs, name=sensor)\n",
        "\n",
        "    # Spectral features\n",
        "    spectral_cols = spectral_features(fft_dfs[sensor][0], freqs, name=sensor)\n",
        "\n",
        "    # Saving into the dataframe\n",
        "    band_power_df = pd.concat([band_power_df, band_power_cols], axis=1)\n",
        "    top_peaks_df = pd.concat([top_peaks_df, top_peaks_cols], axis=1)\n",
        "    spectral_df = pd.concat([spectral_df, spectral_cols], axis=1)"
      ]
    },
    {
      "cell_type": "markdown",
      "metadata": {
        "id": "AKeWLNqs4ozQ"
      },
      "source": [
        "###Concatenate all the dataframes into one"
      ]
    },
    {
      "cell_type": "code",
      "execution_count": null,
      "metadata": {
        "id": "VZpNaIM84wqp"
      },
      "outputs": [],
      "source": [
        "# Frequency\n",
        "freq_data = pd.concat([band_power_df, top_peaks_df, spectral_df], axis=1)\n",
        "\n",
        "# Coefficient of Variance\n",
        "cv_data = cv_df\n",
        "\n",
        "# Stability\n",
        "stability_data = stability_df\n",
        "\n",
        "# Set up the inserting points\n",
        "insert_at = total_data.shape[1] - 5\n",
        "df_first = total_data.iloc[:, :insert_at]\n",
        "df_last = total_data.iloc[:, insert_at:]\n",
        "\n",
        "training_table = pd.concat([df_first, freq_data, cv_data, stability_data, ema_only, df_last], axis=1)"
      ]
    },
    {
      "cell_type": "markdown",
      "metadata": {
        "id": "i1-YOpkDqwT7"
      },
      "source": [
        "# Targets\n",
        "---\n",
        "The features that we want the model to ultimately predict"
      ]
    },
    {
      "cell_type": "markdown",
      "metadata": {
        "id": "a-aUiK2HtR3k"
      },
      "source": [
        "### Reviewing dataset"
      ]
    },
    {
      "cell_type": "code",
      "execution_count": null,
      "metadata": {
        "colab": {
          "base_uri": "https://localhost:8080/",
          "height": 443
        },
        "id": "APZNpTcJtVmK",
        "outputId": "d613979b-07b4-4a98-9c2f-2b8b4032ab90"
      },
      "outputs": [
        {
          "ename": "",
          "evalue": "",
          "output_type": "error",
          "traceback": [
            "\u001b[1;31mRunning cells with 'Python 3.11.8' requires the ipykernel package.\n",
            "\u001b[1;31m<a href='command:jupyter.createPythonEnvAndSelectController'>Create a Python Environment</a> with the required packages."
          ]
        }
      ],
      "source": [
        "training_table"
      ]
    },
    {
      "cell_type": "markdown",
      "metadata": {
        "id": "6rXuflBgkK7r"
      },
      "source": [
        "### Creating the maintenance_score (based on the profile data)"
      ]
    },
    {
      "cell_type": "markdown",
      "metadata": {
        "id": "wtT2-H-2E6oa"
      },
      "source": [
        "Ιn the matrix below the closer the value of a cell is to 1, the more correlated are the corresponding data.\n",
        "\n",
        "For example, if Cooler condition % has a correlation of -0.9 with the stable flag, it means that the worse the cooler, the more likely it is that the engine is not stable.\n",
        "\n",
        "From the last column we can make the weights of the maintenance score"
      ]
    },
    {
      "cell_type": "code",
      "execution_count": null,
      "metadata": {
        "colab": {
          "base_uri": "https://localhost:8080/",
          "height": 206
        },
        "id": "_xOKMADwEkLW",
        "outputId": "af720426-1d56-4d4e-b253-1f3eb45f2bb2"
      },
      "outputs": [],
      "source": [
        "columns_of_interest = [\n",
        "    'cooler_condition',\n",
        "    'valve_condition',\n",
        "    'internal_pump_leakage',\n",
        "    'hydraulic_accumulator',\n",
        "    'stable_flag'\n",
        "]\n",
        "\n",
        "correlation_matrix = profile[columns_of_interest].corr()\n",
        "correlation_matrix"
      ]
    },
    {
      "cell_type": "markdown",
      "metadata": {
        "id": "ntqYKGhIE9pj"
      },
      "source": [
        "heatmap"
      ]
    },
    {
      "cell_type": "code",
      "execution_count": null,
      "metadata": {
        "colab": {
          "base_uri": "https://localhost:8080/",
          "height": 693
        },
        "id": "8kUmwEvRE_Ri",
        "outputId": "aac753ec-5495-4289-b1b1-d2328c5340ad"
      },
      "outputs": [],
      "source": [
        "import seaborn as sns\n",
        "\n",
        "plt.figure(figsize=(8, 6))\n",
        "sns.heatmap(correlation_matrix, annot=True, cmap='coolwarm', fmt=\".2f\", square=True)\n",
        "plt.title(\"Correlation Heatmap\")\n",
        "plt.show()"
      ]
    },
    {
      "cell_type": "code",
      "execution_count": null,
      "metadata": {
        "colab": {
          "base_uri": "https://localhost:8080/"
        },
        "id": "E_y75VHTFD2r",
        "outputId": "50af777a-aeba-4f95-dc33-c265fcde5ea6"
      },
      "outputs": [],
      "source": [
        "weights = correlation_matrix['stable_flag']\n",
        "\n",
        "weights_dict = weights.to_dict() #convert to dictionary for easier handling\n",
        "\n",
        "for feature, weight in weights_dict.items():\n",
        "    print(f\"{feature}: {weight}\")"
      ]
    },
    {
      "cell_type": "markdown",
      "metadata": {
        "id": "e_NizcgCFQwC"
      },
      "source": [
        "Normalizing the weights to have sum equal to 1"
      ]
    },
    {
      "cell_type": "code",
      "execution_count": null,
      "metadata": {
        "colab": {
          "base_uri": "https://localhost:8080/"
        },
        "id": "1XiVp1cVFRkK",
        "outputId": "edd81130-9697-4048-9a5d-715c9b4cde56"
      },
      "outputs": [],
      "source": [
        "total = sum(abs(w) for w in weights_dict.values())\n",
        "normalized_weights = {k: abs(v) / total for k, v in weights_dict.items()}\n",
        "normalized_weights"
      ]
    },
    {
      "cell_type": "markdown",
      "metadata": {
        "id": "7aYDUEwOui-q"
      },
      "source": [
        "Υπολογίζουμε το maintenance_score με βάση τα παραπάνω weights"
      ]
    },
    {
      "cell_type": "code",
      "execution_count": null,
      "metadata": {
        "colab": {
          "base_uri": "https://localhost:8080/",
          "height": 443
        },
        "id": "dFCddE1thxaZ",
        "outputId": "d5658755-08d2-4163-db9c-e53befbb1d1f"
      },
      "outputs": [],
      "source": [
        "def compute_maintenance_score(row, weights):\n",
        "    # Compute an initial score using the provided weights\n",
        "    base_score = (row['cooler_condition'] * weights['cooler_condition'] +\n",
        "                  row['valve_condition'] * weights['valve_condition'] +\n",
        "                  row['internal_pump_leakage'] * weights['internal_pump_leakage'] +\n",
        "                  row['hydraulic_accumulator'] * weights['hydraulic_accumulator'])\n",
        "\n",
        "    # If stable_flag is 0 (machine is stable), reduce the score\n",
        "    if row['stable_flag'] == 0:\n",
        "        return base_score * (1 + weights['stable_flag'])  # Apply stability weight\n",
        "\n",
        "    return base_score  # Return the raw score without capping at 1\n",
        "\n",
        "training_table[\"maintenance_score\"] = training_table.apply(lambda row: compute_maintenance_score(row, weights_dict), axis=1)\n",
        "# Scale maintenance_score to minMax\n",
        "min_max_scaler = MinMaxScaler()\n",
        "training_table[\"maintenance_score\"] = min_max_scaler.fit_transform(training_table[[\"maintenance_score\"]])\n",
        "training_table"
      ]
    },
    {
      "cell_type": "markdown",
      "metadata": {
        "id": "csOfVHRwsskL"
      },
      "source": [
        "### Creating Failure Flag (failure_flag)\n",
        "---\n",
        "Indicator that shows where the system should break down"
      ]
    },
    {
      "cell_type": "markdown",
      "metadata": {
        "id": "HQLFDm6otCce"
      },
      "source": [
        "#### Based on the description of the dataset\n",
        "---\n",
        "- Sensor | Failure Threshold\n",
        "- Cooler Condition (%) | ≤ 3\n",
        "- Valve Condition (%) | ≤ 80\n",
        "- Internal Pump Leakage | ≥ 2\n",
        "- Accumulator Pressure (bar) | ≤ 100"
      ]
    },
    {
      "cell_type": "code",
      "execution_count": null,
      "metadata": {
        "id": "rncMwo_os76D"
      },
      "outputs": [],
      "source": [
        "def create_failure_flag(row):\n",
        "\n",
        "  failure_flag = ((row[\"cooler_condition\"] <= 3) |\n",
        "  (row[\"valve_condition\"] <= 70) |\n",
        "  (row[\"internal_pump_leakage\"] >= 2) |\n",
        "  (row[\"hydraulic_accumulator\"] <= 90)) and row[\"stable_flag\"]\n",
        "\n",
        "  return int(failure_flag)"
      ]
    },
    {
      "cell_type": "code",
      "execution_count": null,
      "metadata": {
        "colab": {
          "base_uri": "https://localhost:8080/",
          "height": 443
        },
        "id": "QUzV_Nb8ufyT",
        "outputId": "2c1e6716-1fb5-4cf0-f548-0efa078dc4e8"
      },
      "outputs": [],
      "source": [
        "training_table[\"failure_flag\"] = training_table.apply(lambda row: create_failure_flag(row), axis = 1)\n",
        "training_table"
      ]
    },
    {
      "cell_type": "markdown",
      "metadata": {
        "id": "GxCqG_30GJFc"
      },
      "source": [
        "###Creating Remaining Useful Life (RUL)"
      ]
    },
    {
      "cell_type": "code",
      "execution_count": null,
      "metadata": {
        "id": "HTFOqfv8GalI"
      },
      "outputs": [],
      "source": [
        "# RUL = Time To Failure and we calculating it based on the failure_flag\n",
        "def compute_ttf(failure_flags):\n",
        "    ttf = np.zeros_like(failure_flags, dtype=int)\n",
        "    next_failure = None\n",
        "    for i in reversed(range(len(failure_flags))):\n",
        "        if failure_flags[i]:\n",
        "            next_failure = i\n",
        "        ttf[i] = (next_failure - i) if next_failure is not None else len(failure_flags)\n",
        "    return ttf"
      ]
    },
    {
      "cell_type": "code",
      "execution_count": null,
      "metadata": {
        "colab": {
          "base_uri": "https://localhost:8080/",
          "height": 443
        },
        "id": "R2D6zYJDHPrI",
        "outputId": "d6365c38-7b8f-4d4c-d670-ace57670ccba"
      },
      "outputs": [],
      "source": [
        "training_table[\"rul\"] = compute_ttf(training_table[\"failure_flag\"].values)\n",
        "training_table"
      ]
    },
    {
      "cell_type": "markdown",
      "metadata": {
        "id": "-SgUBvn2NpNn"
      },
      "source": [
        "### Creating (multi-class) Health State Classification"
      ]
    },
    {
      "cell_type": "markdown",
      "metadata": {
        "id": "Wog3h9chVYLo"
      },
      "source": [
        "- Health State Classes\n",
        "  - Class 0 : Healthy\n",
        "  - Class 1 : Degraded\n",
        "  - Class 2 : Failing"
      ]
    },
    {
      "cell_type": "code",
      "execution_count": null,
      "metadata": {
        "id": "LevIwyU3ON3c"
      },
      "outputs": [],
      "source": [
        "# Health State Classification (multi-class)\n",
        "def compute_health_state(rul_series):\n",
        "    values = [0, 1, 2]  # 0: Healthy, 1: Degraded, 2: Failing\n",
        "    return pd.cut(rul_series, bins=[-1, 10, 30, float('inf')], labels=[2,1,0], right=True).astype(int)"
      ]
    },
    {
      "cell_type": "code",
      "execution_count": null,
      "metadata": {
        "colab": {
          "base_uri": "https://localhost:8080/",
          "height": 209
        },
        "id": "33eq_8u7OVUY",
        "outputId": "77e7d053-27c6-4eca-ed35-7b28b184a77d"
      },
      "outputs": [],
      "source": [
        "training_table[\"health_state\"] = compute_health_state(training_table[\"rul\"])\n",
        "training_table.health_state.value_counts()"
      ]
    },
    {
      "cell_type": "markdown",
      "metadata": {
        "id": "8OMYoIWtXLv4"
      },
      "source": [
        "### Creating Mode Classification (multi-label flag)\n"
      ]
    },
    {
      "cell_type": "markdown",
      "metadata": {
        "id": "qfFuKNArXVlI"
      },
      "source": [
        "Explanation"
      ]
    },
    {
      "cell_type": "code",
      "execution_count": null,
      "metadata": {
        "id": "fL7EnlgqYUWM"
      },
      "outputs": [],
      "source": [
        "# Failure Mode Classification (multi-label flags)\n",
        "def compute_failure_modes(df):\n",
        "    failure_modes = pd.DataFrame()\n",
        "    failure_modes[\"cooler_failure\"] = (df[\"cooler_condition\"] <= 20).astype(int)\n",
        "    failure_modes[\"valve_failure\"] = (df[\"valve_condition\"] <= 80).astype(int)\n",
        "    failure_modes[\"pump_failure\"] = (df[\"internal_pump_leakage\"] >= 1).astype(int)\n",
        "    failure_modes[\"hydraulic_failure\"] = (df[\"hydraulic_accumulator\"] <= 100).astype(int)\n",
        "    return failure_modes"
      ]
    },
    {
      "cell_type": "code",
      "execution_count": null,
      "metadata": {
        "colab": {
          "base_uri": "https://localhost:8080/",
          "height": 443
        },
        "id": "DDgSSfgzYZGM",
        "outputId": "e4f4b0e5-f99c-4a2d-c140-bf2521916797"
      },
      "outputs": [],
      "source": [
        "failure_modes_df = compute_failure_modes(training_table)\n",
        "training_table = pd.concat([training_table, failure_modes_df], axis=1)\n",
        "training_table"
      ]
    },
    {
      "cell_type": "markdown",
      "metadata": {
        "id": "hVhkekTF8p6X"
      },
      "source": [
        "# Model training\n",
        "\n",
        "**NOTE:** needs change to switch from classifiers to regressors and ultimately predict maintenance_score.\n",
        "\n",
        "/*DONE*/"
      ]
    },
    {
      "cell_type": "markdown",
      "metadata": {
        "id": "NNy4eyc8uE7J"
      },
      "source": [
        "### Reviewing Dataset"
      ]
    },
    {
      "cell_type": "code",
      "execution_count": null,
      "metadata": {
        "colab": {
          "base_uri": "https://localhost:8080/",
          "height": 443
        },
        "id": "qBB0SRA_uHIo",
        "outputId": "a3fe53df-0185-4003-89fb-1969e650effd"
      },
      "outputs": [
        {
          "data": {
            "application/vnd.google.colaboratory.intrinsic+json": {
              "type": "dataframe",
              "variable_name": "training_table"
            },
            "text/html": [
              "\n",
              "  <div id=\"df-a8d5356e-a5f2-4eeb-a5be-3ec9661b0e87\" class=\"colab-df-container\">\n",
              "    <div>\n",
              "<style scoped>\n",
              "    .dataframe tbody tr th:only-of-type {\n",
              "        vertical-align: middle;\n",
              "    }\n",
              "\n",
              "    .dataframe tbody tr th {\n",
              "        vertical-align: top;\n",
              "    }\n",
              "\n",
              "    .dataframe thead th {\n",
              "        text-align: right;\n",
              "    }\n",
              "</style>\n",
              "<table border=\"1\" class=\"dataframe\">\n",
              "  <thead>\n",
              "    <tr style=\"text-align: right;\">\n",
              "      <th></th>\n",
              "      <th>meanPS</th>\n",
              "      <th>stdPS</th>\n",
              "      <th>minPS</th>\n",
              "      <th>maxPS</th>\n",
              "      <th>rangePS</th>\n",
              "      <th>rmsPS</th>\n",
              "      <th>meanFS</th>\n",
              "      <th>stdFS</th>\n",
              "      <th>minFS</th>\n",
              "      <th>maxFS</th>\n",
              "      <th>...</th>\n",
              "      <th>hydraulic_accumulator</th>\n",
              "      <th>stable_flag</th>\n",
              "      <th>maintenance_score</th>\n",
              "      <th>failure_flag</th>\n",
              "      <th>rul</th>\n",
              "      <th>health_state</th>\n",
              "      <th>cooler_failure</th>\n",
              "      <th>valve_failure</th>\n",
              "      <th>pump_failure</th>\n",
              "      <th>hydraulic_failure</th>\n",
              "    </tr>\n",
              "  </thead>\n",
              "  <tbody>\n",
              "    <tr>\n",
              "      <th>0</th>\n",
              "      <td>-0.070639</td>\n",
              "      <td>-0.360957</td>\n",
              "      <td>0.144353</td>\n",
              "      <td>-1.897972</td>\n",
              "      <td>-4.929704</td>\n",
              "      <td>-0.103511</td>\n",
              "      <td>0.875728</td>\n",
              "      <td>0.261479</td>\n",
              "      <td>1.206382</td>\n",
              "      <td>-1.516235</td>\n",
              "      <td>...</td>\n",
              "      <td>1.387554</td>\n",
              "      <td>1</td>\n",
              "      <td>0.780412</td>\n",
              "      <td>1</td>\n",
              "      <td>0</td>\n",
              "      <td>2</td>\n",
              "      <td>1</td>\n",
              "      <td>1</td>\n",
              "      <td>0</td>\n",
              "      <td>1</td>\n",
              "    </tr>\n",
              "    <tr>\n",
              "      <th>1</th>\n",
              "      <td>-0.126748</td>\n",
              "      <td>-0.359408</td>\n",
              "      <td>0.096028</td>\n",
              "      <td>-1.904578</td>\n",
              "      <td>-4.805717</td>\n",
              "      <td>-0.155573</td>\n",
              "      <td>0.953815</td>\n",
              "      <td>-0.166577</td>\n",
              "      <td>1.653169</td>\n",
              "      <td>-1.496113</td>\n",
              "      <td>...</td>\n",
              "      <td>1.387554</td>\n",
              "      <td>1</td>\n",
              "      <td>0.780412</td>\n",
              "      <td>1</td>\n",
              "      <td>0</td>\n",
              "      <td>2</td>\n",
              "      <td>1</td>\n",
              "      <td>1</td>\n",
              "      <td>0</td>\n",
              "      <td>1</td>\n",
              "    </tr>\n",
              "    <tr>\n",
              "      <th>2</th>\n",
              "      <td>-0.188319</td>\n",
              "      <td>-0.355868</td>\n",
              "      <td>0.014818</td>\n",
              "      <td>-1.893104</td>\n",
              "      <td>-4.543691</td>\n",
              "      <td>-0.212142</td>\n",
              "      <td>0.928557</td>\n",
              "      <td>-0.087029</td>\n",
              "      <td>1.530521</td>\n",
              "      <td>-1.549772</td>\n",
              "      <td>...</td>\n",
              "      <td>1.387554</td>\n",
              "      <td>1</td>\n",
              "      <td>0.780412</td>\n",
              "      <td>1</td>\n",
              "      <td>0</td>\n",
              "      <td>2</td>\n",
              "      <td>1</td>\n",
              "      <td>1</td>\n",
              "      <td>0</td>\n",
              "      <td>1</td>\n",
              "    </tr>\n",
              "    <tr>\n",
              "      <th>3</th>\n",
              "      <td>-0.231262</td>\n",
              "      <td>-0.353987</td>\n",
              "      <td>-0.044231</td>\n",
              "      <td>-2.141165</td>\n",
              "      <td>-4.962767</td>\n",
              "      <td>-0.251566</td>\n",
              "      <td>0.882362</td>\n",
              "      <td>-0.053975</td>\n",
              "      <td>1.410064</td>\n",
              "      <td>-1.243469</td>\n",
              "      <td>...</td>\n",
              "      <td>1.387554</td>\n",
              "      <td>1</td>\n",
              "      <td>0.780412</td>\n",
              "      <td>1</td>\n",
              "      <td>0</td>\n",
              "      <td>2</td>\n",
              "      <td>1</td>\n",
              "      <td>1</td>\n",
              "      <td>0</td>\n",
              "      <td>1</td>\n",
              "    </tr>\n",
              "    <tr>\n",
              "      <th>4</th>\n",
              "      <td>-0.277941</td>\n",
              "      <td>-0.367171</td>\n",
              "      <td>-0.090698</td>\n",
              "      <td>-1.726746</td>\n",
              "      <td>-3.843164</td>\n",
              "      <td>-0.296599</td>\n",
              "      <td>0.810898</td>\n",
              "      <td>-0.086447</td>\n",
              "      <td>1.274276</td>\n",
              "      <td>-1.444690</td>\n",
              "      <td>...</td>\n",
              "      <td>1.387554</td>\n",
              "      <td>1</td>\n",
              "      <td>0.780412</td>\n",
              "      <td>1</td>\n",
              "      <td>0</td>\n",
              "      <td>2</td>\n",
              "      <td>1</td>\n",
              "      <td>1</td>\n",
              "      <td>0</td>\n",
              "      <td>1</td>\n",
              "    </tr>\n",
              "    <tr>\n",
              "      <th>...</th>\n",
              "      <td>...</td>\n",
              "      <td>...</td>\n",
              "      <td>...</td>\n",
              "      <td>...</td>\n",
              "      <td>...</td>\n",
              "      <td>...</td>\n",
              "      <td>...</td>\n",
              "      <td>...</td>\n",
              "      <td>...</td>\n",
              "      <td>...</td>\n",
              "      <td>...</td>\n",
              "      <td>...</td>\n",
              "      <td>...</td>\n",
              "      <td>...</td>\n",
              "      <td>...</td>\n",
              "      <td>...</td>\n",
              "      <td>...</td>\n",
              "      <td>...</td>\n",
              "      <td>...</td>\n",
              "      <td>...</td>\n",
              "      <td>...</td>\n",
              "    </tr>\n",
              "    <tr>\n",
              "      <th>2200</th>\n",
              "      <td>0.983604</td>\n",
              "      <td>-0.348467</td>\n",
              "      <td>1.780136</td>\n",
              "      <td>1.665621</td>\n",
              "      <td>-1.185709</td>\n",
              "      <td>0.871977</td>\n",
              "      <td>0.770646</td>\n",
              "      <td>-0.219946</td>\n",
              "      <td>1.204192</td>\n",
              "      <td>1.381345</td>\n",
              "      <td>...</td>\n",
              "      <td>-1.046703</td>\n",
              "      <td>0</td>\n",
              "      <td>0.997100</td>\n",
              "      <td>0</td>\n",
              "      <td>2205</td>\n",
              "      <td>0</td>\n",
              "      <td>1</td>\n",
              "      <td>1</td>\n",
              "      <td>0</td>\n",
              "      <td>1</td>\n",
              "    </tr>\n",
              "    <tr>\n",
              "      <th>2201</th>\n",
              "      <td>0.980611</td>\n",
              "      <td>-0.346919</td>\n",
              "      <td>1.769412</td>\n",
              "      <td>1.613297</td>\n",
              "      <td>-1.279113</td>\n",
              "      <td>0.869081</td>\n",
              "      <td>0.767270</td>\n",
              "      <td>-0.192279</td>\n",
              "      <td>1.173530</td>\n",
              "      <td>1.580330</td>\n",
              "      <td>...</td>\n",
              "      <td>-1.046703</td>\n",
              "      <td>0</td>\n",
              "      <td>0.997100</td>\n",
              "      <td>0</td>\n",
              "      <td>2205</td>\n",
              "      <td>0</td>\n",
              "      <td>1</td>\n",
              "      <td>1</td>\n",
              "      <td>0</td>\n",
              "      <td>1</td>\n",
              "    </tr>\n",
              "    <tr>\n",
              "      <th>2202</th>\n",
              "      <td>0.975422</td>\n",
              "      <td>-0.350037</td>\n",
              "      <td>1.765981</td>\n",
              "      <td>1.648237</td>\n",
              "      <td>-1.186123</td>\n",
              "      <td>0.864302</td>\n",
              "      <td>0.766894</td>\n",
              "      <td>-0.267734</td>\n",
              "      <td>1.160389</td>\n",
              "      <td>1.032563</td>\n",
              "      <td>...</td>\n",
              "      <td>-1.046703</td>\n",
              "      <td>0</td>\n",
              "      <td>0.997100</td>\n",
              "      <td>0</td>\n",
              "      <td>2205</td>\n",
              "      <td>0</td>\n",
              "      <td>1</td>\n",
              "      <td>1</td>\n",
              "      <td>0</td>\n",
              "      <td>1</td>\n",
              "    </tr>\n",
              "    <tr>\n",
              "      <th>2203</th>\n",
              "      <td>0.982667</td>\n",
              "      <td>-0.350073</td>\n",
              "      <td>1.767411</td>\n",
              "      <td>1.664925</td>\n",
              "      <td>-1.150580</td>\n",
              "      <td>0.870597</td>\n",
              "      <td>0.761664</td>\n",
              "      <td>-0.202208</td>\n",
              "      <td>1.164769</td>\n",
              "      <td>1.511021</td>\n",
              "      <td>...</td>\n",
              "      <td>-1.046703</td>\n",
              "      <td>0</td>\n",
              "      <td>0.997100</td>\n",
              "      <td>0</td>\n",
              "      <td>2205</td>\n",
              "      <td>0</td>\n",
              "      <td>1</td>\n",
              "      <td>1</td>\n",
              "      <td>0</td>\n",
              "      <td>1</td>\n",
              "    </tr>\n",
              "    <tr>\n",
              "      <th>2204</th>\n",
              "      <td>0.984279</td>\n",
              "      <td>-0.350922</td>\n",
              "      <td>1.759976</td>\n",
              "      <td>1.599216</td>\n",
              "      <td>-1.285312</td>\n",
              "      <td>0.872033</td>\n",
              "      <td>0.771584</td>\n",
              "      <td>-0.180308</td>\n",
              "      <td>1.145058</td>\n",
              "      <td>1.774844</td>\n",
              "      <td>...</td>\n",
              "      <td>-1.046703</td>\n",
              "      <td>0</td>\n",
              "      <td>0.997100</td>\n",
              "      <td>0</td>\n",
              "      <td>2205</td>\n",
              "      <td>0</td>\n",
              "      <td>1</td>\n",
              "      <td>1</td>\n",
              "      <td>0</td>\n",
              "      <td>1</td>\n",
              "    </tr>\n",
              "  </tbody>\n",
              "</table>\n",
              "<p>2205 rows × 250 columns</p>\n",
              "</div>\n",
              "    <div class=\"colab-df-buttons\">\n",
              "\n",
              "  <div class=\"colab-df-container\">\n",
              "    <button class=\"colab-df-convert\" onclick=\"convertToInteractive('df-a8d5356e-a5f2-4eeb-a5be-3ec9661b0e87')\"\n",
              "            title=\"Convert this dataframe to an interactive table.\"\n",
              "            style=\"display:none;\">\n",
              "\n",
              "  <svg xmlns=\"http://www.w3.org/2000/svg\" height=\"24px\" viewBox=\"0 -960 960 960\">\n",
              "    <path d=\"M120-120v-720h720v720H120Zm60-500h600v-160H180v160Zm220 220h160v-160H400v160Zm0 220h160v-160H400v160ZM180-400h160v-160H180v160Zm440 0h160v-160H620v160ZM180-180h160v-160H180v160Zm440 0h160v-160H620v160Z\"/>\n",
              "  </svg>\n",
              "    </button>\n",
              "\n",
              "  <style>\n",
              "    .colab-df-container {\n",
              "      display:flex;\n",
              "      gap: 12px;\n",
              "    }\n",
              "\n",
              "    .colab-df-convert {\n",
              "      background-color: #E8F0FE;\n",
              "      border: none;\n",
              "      border-radius: 50%;\n",
              "      cursor: pointer;\n",
              "      display: none;\n",
              "      fill: #1967D2;\n",
              "      height: 32px;\n",
              "      padding: 0 0 0 0;\n",
              "      width: 32px;\n",
              "    }\n",
              "\n",
              "    .colab-df-convert:hover {\n",
              "      background-color: #E2EBFA;\n",
              "      box-shadow: 0px 1px 2px rgba(60, 64, 67, 0.3), 0px 1px 3px 1px rgba(60, 64, 67, 0.15);\n",
              "      fill: #174EA6;\n",
              "    }\n",
              "\n",
              "    .colab-df-buttons div {\n",
              "      margin-bottom: 4px;\n",
              "    }\n",
              "\n",
              "    [theme=dark] .colab-df-convert {\n",
              "      background-color: #3B4455;\n",
              "      fill: #D2E3FC;\n",
              "    }\n",
              "\n",
              "    [theme=dark] .colab-df-convert:hover {\n",
              "      background-color: #434B5C;\n",
              "      box-shadow: 0px 1px 3px 1px rgba(0, 0, 0, 0.15);\n",
              "      filter: drop-shadow(0px 1px 2px rgba(0, 0, 0, 0.3));\n",
              "      fill: #FFFFFF;\n",
              "    }\n",
              "  </style>\n",
              "\n",
              "    <script>\n",
              "      const buttonEl =\n",
              "        document.querySelector('#df-a8d5356e-a5f2-4eeb-a5be-3ec9661b0e87 button.colab-df-convert');\n",
              "      buttonEl.style.display =\n",
              "        google.colab.kernel.accessAllowed ? 'block' : 'none';\n",
              "\n",
              "      async function convertToInteractive(key) {\n",
              "        const element = document.querySelector('#df-a8d5356e-a5f2-4eeb-a5be-3ec9661b0e87');\n",
              "        const dataTable =\n",
              "          await google.colab.kernel.invokeFunction('convertToInteractive',\n",
              "                                                    [key], {});\n",
              "        if (!dataTable) return;\n",
              "\n",
              "        const docLinkHtml = 'Like what you see? Visit the ' +\n",
              "          '<a target=\"_blank\" href=https://colab.research.google.com/notebooks/data_table.ipynb>data table notebook</a>'\n",
              "          + ' to learn more about interactive tables.';\n",
              "        element.innerHTML = '';\n",
              "        dataTable['output_type'] = 'display_data';\n",
              "        await google.colab.output.renderOutput(dataTable, element);\n",
              "        const docLink = document.createElement('div');\n",
              "        docLink.innerHTML = docLinkHtml;\n",
              "        element.appendChild(docLink);\n",
              "      }\n",
              "    </script>\n",
              "  </div>\n",
              "\n",
              "\n",
              "    <div id=\"df-8e34aa36-eb45-49b4-a62f-5e32da624362\">\n",
              "      <button class=\"colab-df-quickchart\" onclick=\"quickchart('df-8e34aa36-eb45-49b4-a62f-5e32da624362')\"\n",
              "                title=\"Suggest charts\"\n",
              "                style=\"display:none;\">\n",
              "\n",
              "<svg xmlns=\"http://www.w3.org/2000/svg\" height=\"24px\"viewBox=\"0 0 24 24\"\n",
              "     width=\"24px\">\n",
              "    <g>\n",
              "        <path d=\"M19 3H5c-1.1 0-2 .9-2 2v14c0 1.1.9 2 2 2h14c1.1 0 2-.9 2-2V5c0-1.1-.9-2-2-2zM9 17H7v-7h2v7zm4 0h-2V7h2v10zm4 0h-2v-4h2v4z\"/>\n",
              "    </g>\n",
              "</svg>\n",
              "      </button>\n",
              "\n",
              "<style>\n",
              "  .colab-df-quickchart {\n",
              "      --bg-color: #E8F0FE;\n",
              "      --fill-color: #1967D2;\n",
              "      --hover-bg-color: #E2EBFA;\n",
              "      --hover-fill-color: #174EA6;\n",
              "      --disabled-fill-color: #AAA;\n",
              "      --disabled-bg-color: #DDD;\n",
              "  }\n",
              "\n",
              "  [theme=dark] .colab-df-quickchart {\n",
              "      --bg-color: #3B4455;\n",
              "      --fill-color: #D2E3FC;\n",
              "      --hover-bg-color: #434B5C;\n",
              "      --hover-fill-color: #FFFFFF;\n",
              "      --disabled-bg-color: #3B4455;\n",
              "      --disabled-fill-color: #666;\n",
              "  }\n",
              "\n",
              "  .colab-df-quickchart {\n",
              "    background-color: var(--bg-color);\n",
              "    border: none;\n",
              "    border-radius: 50%;\n",
              "    cursor: pointer;\n",
              "    display: none;\n",
              "    fill: var(--fill-color);\n",
              "    height: 32px;\n",
              "    padding: 0;\n",
              "    width: 32px;\n",
              "  }\n",
              "\n",
              "  .colab-df-quickchart:hover {\n",
              "    background-color: var(--hover-bg-color);\n",
              "    box-shadow: 0 1px 2px rgba(60, 64, 67, 0.3), 0 1px 3px 1px rgba(60, 64, 67, 0.15);\n",
              "    fill: var(--button-hover-fill-color);\n",
              "  }\n",
              "\n",
              "  .colab-df-quickchart-complete:disabled,\n",
              "  .colab-df-quickchart-complete:disabled:hover {\n",
              "    background-color: var(--disabled-bg-color);\n",
              "    fill: var(--disabled-fill-color);\n",
              "    box-shadow: none;\n",
              "  }\n",
              "\n",
              "  .colab-df-spinner {\n",
              "    border: 2px solid var(--fill-color);\n",
              "    border-color: transparent;\n",
              "    border-bottom-color: var(--fill-color);\n",
              "    animation:\n",
              "      spin 1s steps(1) infinite;\n",
              "  }\n",
              "\n",
              "  @keyframes spin {\n",
              "    0% {\n",
              "      border-color: transparent;\n",
              "      border-bottom-color: var(--fill-color);\n",
              "      border-left-color: var(--fill-color);\n",
              "    }\n",
              "    20% {\n",
              "      border-color: transparent;\n",
              "      border-left-color: var(--fill-color);\n",
              "      border-top-color: var(--fill-color);\n",
              "    }\n",
              "    30% {\n",
              "      border-color: transparent;\n",
              "      border-left-color: var(--fill-color);\n",
              "      border-top-color: var(--fill-color);\n",
              "      border-right-color: var(--fill-color);\n",
              "    }\n",
              "    40% {\n",
              "      border-color: transparent;\n",
              "      border-right-color: var(--fill-color);\n",
              "      border-top-color: var(--fill-color);\n",
              "    }\n",
              "    60% {\n",
              "      border-color: transparent;\n",
              "      border-right-color: var(--fill-color);\n",
              "    }\n",
              "    80% {\n",
              "      border-color: transparent;\n",
              "      border-right-color: var(--fill-color);\n",
              "      border-bottom-color: var(--fill-color);\n",
              "    }\n",
              "    90% {\n",
              "      border-color: transparent;\n",
              "      border-bottom-color: var(--fill-color);\n",
              "    }\n",
              "  }\n",
              "</style>\n",
              "\n",
              "      <script>\n",
              "        async function quickchart(key) {\n",
              "          const quickchartButtonEl =\n",
              "            document.querySelector('#' + key + ' button');\n",
              "          quickchartButtonEl.disabled = true;  // To prevent multiple clicks.\n",
              "          quickchartButtonEl.classList.add('colab-df-spinner');\n",
              "          try {\n",
              "            const charts = await google.colab.kernel.invokeFunction(\n",
              "                'suggestCharts', [key], {});\n",
              "          } catch (error) {\n",
              "            console.error('Error during call to suggestCharts:', error);\n",
              "          }\n",
              "          quickchartButtonEl.classList.remove('colab-df-spinner');\n",
              "          quickchartButtonEl.classList.add('colab-df-quickchart-complete');\n",
              "        }\n",
              "        (() => {\n",
              "          let quickchartButtonEl =\n",
              "            document.querySelector('#df-8e34aa36-eb45-49b4-a62f-5e32da624362 button');\n",
              "          quickchartButtonEl.style.display =\n",
              "            google.colab.kernel.accessAllowed ? 'block' : 'none';\n",
              "        })();\n",
              "      </script>\n",
              "    </div>\n",
              "\n",
              "  <div id=\"id_f699c734-5d6b-44df-b4dd-6f5eddfe3158\">\n",
              "    <style>\n",
              "      .colab-df-generate {\n",
              "        background-color: #E8F0FE;\n",
              "        border: none;\n",
              "        border-radius: 50%;\n",
              "        cursor: pointer;\n",
              "        display: none;\n",
              "        fill: #1967D2;\n",
              "        height: 32px;\n",
              "        padding: 0 0 0 0;\n",
              "        width: 32px;\n",
              "      }\n",
              "\n",
              "      .colab-df-generate:hover {\n",
              "        background-color: #E2EBFA;\n",
              "        box-shadow: 0px 1px 2px rgba(60, 64, 67, 0.3), 0px 1px 3px 1px rgba(60, 64, 67, 0.15);\n",
              "        fill: #174EA6;\n",
              "      }\n",
              "\n",
              "      [theme=dark] .colab-df-generate {\n",
              "        background-color: #3B4455;\n",
              "        fill: #D2E3FC;\n",
              "      }\n",
              "\n",
              "      [theme=dark] .colab-df-generate:hover {\n",
              "        background-color: #434B5C;\n",
              "        box-shadow: 0px 1px 3px 1px rgba(0, 0, 0, 0.15);\n",
              "        filter: drop-shadow(0px 1px 2px rgba(0, 0, 0, 0.3));\n",
              "        fill: #FFFFFF;\n",
              "      }\n",
              "    </style>\n",
              "    <button class=\"colab-df-generate\" onclick=\"generateWithVariable('training_table')\"\n",
              "            title=\"Generate code using this dataframe.\"\n",
              "            style=\"display:none;\">\n",
              "\n",
              "  <svg xmlns=\"http://www.w3.org/2000/svg\" height=\"24px\"viewBox=\"0 0 24 24\"\n",
              "       width=\"24px\">\n",
              "    <path d=\"M7,19H8.4L18.45,9,17,7.55,7,17.6ZM5,21V16.75L18.45,3.32a2,2,0,0,1,2.83,0l1.4,1.43a1.91,1.91,0,0,1,.58,1.4,1.91,1.91,0,0,1-.58,1.4L9.25,21ZM18.45,9,17,7.55Zm-12,3A5.31,5.31,0,0,0,4.9,8.1,5.31,5.31,0,0,0,1,6.5,5.31,5.31,0,0,0,4.9,4.9,5.31,5.31,0,0,0,6.5,1,5.31,5.31,0,0,0,8.1,4.9,5.31,5.31,0,0,0,12,6.5,5.46,5.46,0,0,0,6.5,12Z\"/>\n",
              "  </svg>\n",
              "    </button>\n",
              "    <script>\n",
              "      (() => {\n",
              "      const buttonEl =\n",
              "        document.querySelector('#id_f699c734-5d6b-44df-b4dd-6f5eddfe3158 button.colab-df-generate');\n",
              "      buttonEl.style.display =\n",
              "        google.colab.kernel.accessAllowed ? 'block' : 'none';\n",
              "\n",
              "      buttonEl.onclick = () => {\n",
              "        google.colab.notebook.generateWithVariable('training_table');\n",
              "      }\n",
              "      })();\n",
              "    </script>\n",
              "  </div>\n",
              "\n",
              "    </div>\n",
              "  </div>\n"
            ],
            "text/plain": [
              "        meanPS     stdPS     minPS     maxPS   rangePS     rmsPS    meanFS  \\\n",
              "0    -0.070639 -0.360957  0.144353 -1.897972 -4.929704 -0.103511  0.875728   \n",
              "1    -0.126748 -0.359408  0.096028 -1.904578 -4.805717 -0.155573  0.953815   \n",
              "2    -0.188319 -0.355868  0.014818 -1.893104 -4.543691 -0.212142  0.928557   \n",
              "3    -0.231262 -0.353987 -0.044231 -2.141165 -4.962767 -0.251566  0.882362   \n",
              "4    -0.277941 -0.367171 -0.090698 -1.726746 -3.843164 -0.296599  0.810898   \n",
              "...        ...       ...       ...       ...       ...       ...       ...   \n",
              "2200  0.983604 -0.348467  1.780136  1.665621 -1.185709  0.871977  0.770646   \n",
              "2201  0.980611 -0.346919  1.769412  1.613297 -1.279113  0.869081  0.767270   \n",
              "2202  0.975422 -0.350037  1.765981  1.648237 -1.186123  0.864302  0.766894   \n",
              "2203  0.982667 -0.350073  1.767411  1.664925 -1.150580  0.870597  0.761664   \n",
              "2204  0.984279 -0.350922  1.759976  1.599216 -1.285312  0.872033  0.771584   \n",
              "\n",
              "         stdFS     minFS     maxFS  ...  hydraulic_accumulator  stable_flag  \\\n",
              "0     0.261479  1.206382 -1.516235  ...               1.387554            1   \n",
              "1    -0.166577  1.653169 -1.496113  ...               1.387554            1   \n",
              "2    -0.087029  1.530521 -1.549772  ...               1.387554            1   \n",
              "3    -0.053975  1.410064 -1.243469  ...               1.387554            1   \n",
              "4    -0.086447  1.274276 -1.444690  ...               1.387554            1   \n",
              "...        ...       ...       ...  ...                    ...          ...   \n",
              "2200 -0.219946  1.204192  1.381345  ...              -1.046703            0   \n",
              "2201 -0.192279  1.173530  1.580330  ...              -1.046703            0   \n",
              "2202 -0.267734  1.160389  1.032563  ...              -1.046703            0   \n",
              "2203 -0.202208  1.164769  1.511021  ...              -1.046703            0   \n",
              "2204 -0.180308  1.145058  1.774844  ...              -1.046703            0   \n",
              "\n",
              "      maintenance_score  failure_flag   rul  health_state  cooler_failure  \\\n",
              "0              0.780412             1     0             2               1   \n",
              "1              0.780412             1     0             2               1   \n",
              "2              0.780412             1     0             2               1   \n",
              "3              0.780412             1     0             2               1   \n",
              "4              0.780412             1     0             2               1   \n",
              "...                 ...           ...   ...           ...             ...   \n",
              "2200           0.997100             0  2205             0               1   \n",
              "2201           0.997100             0  2205             0               1   \n",
              "2202           0.997100             0  2205             0               1   \n",
              "2203           0.997100             0  2205             0               1   \n",
              "2204           0.997100             0  2205             0               1   \n",
              "\n",
              "      valve_failure  pump_failure  hydraulic_failure  \n",
              "0                 1             0                  1  \n",
              "1                 1             0                  1  \n",
              "2                 1             0                  1  \n",
              "3                 1             0                  1  \n",
              "4                 1             0                  1  \n",
              "...             ...           ...                ...  \n",
              "2200              1             0                  1  \n",
              "2201              1             0                  1  \n",
              "2202              1             0                  1  \n",
              "2203              1             0                  1  \n",
              "2204              1             0                  1  \n",
              "\n",
              "[2205 rows x 250 columns]"
            ]
          },
          "execution_count": 51,
          "metadata": {},
          "output_type": "execute_result"
        }
      ],
      "source": [
        "training_table"
      ]
    },
    {
      "cell_type": "code",
      "execution_count": null,
      "metadata": {
        "colab": {
          "base_uri": "https://localhost:8080/"
        },
        "id": "xFjg-OFHxpF5",
        "outputId": "2008f5d3-8769-4679-e78b-8cd7d810d1ef"
      },
      "outputs": [
        {
          "data": {
            "text/plain": [
              "['meanPS',\n",
              " 'stdPS',\n",
              " 'minPS',\n",
              " 'maxPS',\n",
              " 'rangePS',\n",
              " 'rmsPS',\n",
              " 'meanFS',\n",
              " 'stdFS',\n",
              " 'minFS',\n",
              " 'maxFS',\n",
              " 'rangeFS',\n",
              " 'rmsFS',\n",
              " 'meanTS',\n",
              " 'stdTS',\n",
              " 'minTS',\n",
              " 'maxTS',\n",
              " 'rangeTS',\n",
              " 'rmsTS',\n",
              " 'meanCE',\n",
              " 'stdCE',\n",
              " 'minCE',\n",
              " 'maxCE',\n",
              " 'rangeCE',\n",
              " 'rmsCE',\n",
              " 'meanCP',\n",
              " 'stdCP',\n",
              " 'minCP',\n",
              " 'maxCP',\n",
              " 'rangeCP',\n",
              " 'rmsCP',\n",
              " 'meanEPS1',\n",
              " 'stdEPS1',\n",
              " 'minEPS1',\n",
              " 'maxEPS1',\n",
              " 'rangeEPS1',\n",
              " 'rmsEPS1',\n",
              " 'meanVS1',\n",
              " 'stdVS1',\n",
              " 'minVS1',\n",
              " 'maxVS1',\n",
              " 'rangeVS1',\n",
              " 'rmsVS1',\n",
              " 'meanSE',\n",
              " 'stdSE',\n",
              " 'minSE',\n",
              " 'maxSE',\n",
              " 'rangeSE',\n",
              " 'rmsSE',\n",
              " 'PS10_10Hz',\n",
              " 'PS110_50Hz',\n",
              " 'PS20_10Hz',\n",
              " 'PS210_50Hz',\n",
              " 'PS30_10Hz',\n",
              " 'PS310_50Hz',\n",
              " 'PS40_10Hz',\n",
              " 'PS410_50Hz',\n",
              " 'PS50_10Hz',\n",
              " 'PS510_50Hz',\n",
              " 'PS60_10Hz',\n",
              " 'PS610_50Hz',\n",
              " 'EPS10_10Hz',\n",
              " 'EPS110_50Hz',\n",
              " 'FS10_10Hz',\n",
              " 'FS20_10Hz',\n",
              " 'TS10_10Hz',\n",
              " 'TS20_10Hz',\n",
              " 'TS30_10Hz',\n",
              " 'TS40_10Hz',\n",
              " 'VS10_10Hz',\n",
              " 'CE0_10Hz',\n",
              " 'CP0_10Hz',\n",
              " 'SE0_10Hz',\n",
              " 'PS1_peak1_freq',\n",
              " 'PS1_peak1_mag',\n",
              " 'PS1_peak2_freq',\n",
              " 'PS1_peak2_mag',\n",
              " 'PS1_peak3_freq',\n",
              " 'PS1_peak3_mag',\n",
              " 'PS2_peak1_freq',\n",
              " 'PS2_peak1_mag',\n",
              " 'PS2_peak2_freq',\n",
              " 'PS2_peak2_mag',\n",
              " 'PS2_peak3_freq',\n",
              " 'PS2_peak3_mag',\n",
              " 'PS3_peak1_freq',\n",
              " 'PS3_peak1_mag',\n",
              " 'PS3_peak2_freq',\n",
              " 'PS3_peak2_mag',\n",
              " 'PS3_peak3_freq',\n",
              " 'PS3_peak3_mag',\n",
              " 'PS5_peak1_freq',\n",
              " 'PS5_peak1_mag',\n",
              " 'PS5_peak2_freq',\n",
              " 'PS5_peak2_mag',\n",
              " 'PS5_peak3_freq',\n",
              " 'PS5_peak3_mag',\n",
              " 'PS6_peak1_freq',\n",
              " 'PS6_peak1_mag',\n",
              " 'PS6_peak2_freq',\n",
              " 'PS6_peak2_mag',\n",
              " 'PS6_peak3_freq',\n",
              " 'PS6_peak3_mag',\n",
              " 'EPS1_peak1_freq',\n",
              " 'EPS1_peak1_mag',\n",
              " 'EPS1_peak2_freq',\n",
              " 'EPS1_peak2_mag',\n",
              " 'EPS1_peak3_freq',\n",
              " 'EPS1_peak3_mag',\n",
              " 'FS1_peak1_freq',\n",
              " 'FS1_peak1_mag',\n",
              " 'FS1_peak2_freq',\n",
              " 'FS1_peak2_mag',\n",
              " 'FS1_peak3_freq',\n",
              " 'FS1_peak3_mag',\n",
              " 'FS2_peak1_freq',\n",
              " 'FS2_peak1_mag',\n",
              " 'SE_peak1_freq',\n",
              " 'SE_peak1_mag',\n",
              " 'SE_peak2_freq',\n",
              " 'SE_peak2_mag',\n",
              " 'SE_peak3_freq',\n",
              " 'SE_peak3_mag',\n",
              " 'PS1_spectral_centroid',\n",
              " 'PS1_spectral_entropy',\n",
              " 'PS1_spectral_flatness',\n",
              " 'PS2_spectral_centroid',\n",
              " 'PS2_spectral_entropy',\n",
              " 'PS2_spectral_flatness',\n",
              " 'PS3_spectral_centroid',\n",
              " 'PS3_spectral_entropy',\n",
              " 'PS3_spectral_flatness',\n",
              " 'PS4_spectral_centroid',\n",
              " 'PS4_spectral_entropy',\n",
              " 'PS4_spectral_flatness',\n",
              " 'PS5_spectral_centroid',\n",
              " 'PS5_spectral_entropy',\n",
              " 'PS5_spectral_flatness',\n",
              " 'PS6_spectral_centroid',\n",
              " 'PS6_spectral_entropy',\n",
              " 'PS6_spectral_flatness',\n",
              " 'EPS1_spectral_centroid',\n",
              " 'EPS1_spectral_entropy',\n",
              " 'EPS1_spectral_flatness',\n",
              " 'FS1_spectral_centroid',\n",
              " 'FS1_spectral_entropy',\n",
              " 'FS1_spectral_flatness',\n",
              " 'FS2_spectral_centroid',\n",
              " 'FS2_spectral_entropy',\n",
              " 'FS2_spectral_flatness',\n",
              " 'TS1_spectral_centroid',\n",
              " 'TS1_spectral_entropy',\n",
              " 'TS1_spectral_flatness',\n",
              " 'TS2_spectral_centroid',\n",
              " 'TS2_spectral_entropy',\n",
              " 'TS2_spectral_flatness',\n",
              " 'TS3_spectral_centroid',\n",
              " 'TS3_spectral_entropy',\n",
              " 'TS3_spectral_flatness',\n",
              " 'TS4_spectral_centroid',\n",
              " 'TS4_spectral_entropy',\n",
              " 'TS4_spectral_flatness',\n",
              " 'VS1_spectral_centroid',\n",
              " 'VS1_spectral_entropy',\n",
              " 'VS1_spectral_flatness',\n",
              " 'CE_spectral_centroid',\n",
              " 'CE_spectral_entropy',\n",
              " 'CE_spectral_flatness',\n",
              " 'CP_spectral_centroid',\n",
              " 'CP_spectral_entropy',\n",
              " 'CP_spectral_flatness',\n",
              " 'SE_spectral_centroid',\n",
              " 'SE_spectral_entropy',\n",
              " 'SE_spectral_flatness',\n",
              " 'cvPS',\n",
              " 'cvEPS1',\n",
              " 'cvFS',\n",
              " 'cvTS',\n",
              " 'cvVS1',\n",
              " 'cvCE',\n",
              " 'cvCP',\n",
              " 'cvSE',\n",
              " 'stabilityRangePS',\n",
              " 'stabilityRangeEPS1',\n",
              " 'stabilityRangeFS',\n",
              " 'stabilityRangeTS',\n",
              " 'stabilityRangeVS1',\n",
              " 'stabilityRangeCE',\n",
              " 'stabilityRangeCP',\n",
              " 'stabilityRangeSE',\n",
              " 'meanPS_ema',\n",
              " 'stdPS_ema',\n",
              " 'minPS_ema',\n",
              " 'maxPS_ema',\n",
              " 'rangePS_ema',\n",
              " 'rmsPS_ema',\n",
              " 'meanFS_ema',\n",
              " 'stdFS_ema',\n",
              " 'minFS_ema',\n",
              " 'maxFS_ema',\n",
              " 'rangeFS_ema',\n",
              " 'rmsFS_ema',\n",
              " 'meanTS_ema',\n",
              " 'stdTS_ema',\n",
              " 'minTS_ema',\n",
              " 'maxTS_ema',\n",
              " 'rangeTS_ema',\n",
              " 'rmsTS_ema',\n",
              " 'meanCE_ema',\n",
              " 'stdCE_ema',\n",
              " 'minCE_ema',\n",
              " 'maxCE_ema',\n",
              " 'rangeCE_ema',\n",
              " 'rmsCE_ema',\n",
              " 'meanCP_ema',\n",
              " 'stdCP_ema',\n",
              " 'minCP_ema',\n",
              " 'maxCP_ema',\n",
              " 'rangeCP_ema',\n",
              " 'rmsCP_ema',\n",
              " 'meanEPS1_ema',\n",
              " 'stdEPS1_ema',\n",
              " 'minEPS1_ema',\n",
              " 'maxEPS1_ema',\n",
              " 'rangeEPS1_ema',\n",
              " 'rmsEPS1_ema',\n",
              " 'meanVS1_ema',\n",
              " 'stdVS1_ema',\n",
              " 'minVS1_ema',\n",
              " 'maxVS1_ema',\n",
              " 'rangeVS1_ema',\n",
              " 'rmsVS1_ema',\n",
              " 'meanSE_ema',\n",
              " 'stdSE_ema',\n",
              " 'minSE_ema',\n",
              " 'maxSE_ema',\n",
              " 'rangeSE_ema',\n",
              " 'rmsSE_ema',\n",
              " 'cooler_condition',\n",
              " 'valve_condition',\n",
              " 'internal_pump_leakage',\n",
              " 'hydraulic_accumulator',\n",
              " 'stable_flag',\n",
              " 'maintenance_score',\n",
              " 'failure_flag',\n",
              " 'rul',\n",
              " 'health_state',\n",
              " 'cooler_failure',\n",
              " 'valve_failure',\n",
              " 'pump_failure',\n",
              " 'hydraulic_failure']"
            ]
          },
          "execution_count": 52,
          "metadata": {},
          "output_type": "execute_result"
        }
      ],
      "source": [
        "list(training_table.columns)"
      ]
    },
    {
      "cell_type": "code",
      "execution_count": null,
      "metadata": {
        "id": "415zIZ_Q2Qu5"
      },
      "outputs": [],
      "source": [
        "#i am placing maintenance_score last for easier handling later on the train test split\n",
        "maintenance_col = training_table['maintenance_score']\n",
        "\n",
        "training_table = training_table.drop(columns=['maintenance_score'])\n",
        "\n",
        "training_table['maintenance_score'] = maintenance_col"
      ]
    },
    {
      "cell_type": "markdown",
      "metadata": {
        "id": "mV92JvUa6HOn"
      },
      "source": [
        "Now we are going to check which features are more important at guessing maintenance score"
      ]
    },
    {
      "cell_type": "code",
      "execution_count": null,
      "metadata": {
        "id": "EVYjJBCJ6YF2"
      },
      "outputs": [],
      "source": [
        "X = training_table.drop(columns=['maintenance_score'])\n",
        "y = training_table['maintenance_score']"
      ]
    },
    {
      "cell_type": "code",
      "execution_count": null,
      "metadata": {
        "id": "xuNaUvjv6hEG"
      },
      "outputs": [],
      "source": [
        "from sklearn.model_selection import train_test_split\n",
        "\n",
        "X_train1, X_test1, y_train1, y_test1 = train_test_split(\n",
        "    X, y, test_size=0.2, random_state=42\n",
        ")"
      ]
    },
    {
      "cell_type": "code",
      "execution_count": null,
      "metadata": {
        "colab": {
          "base_uri": "https://localhost:8080/",
          "height": 80
        },
        "id": "OVQZetBP6pG1",
        "outputId": "c81f7e3d-706a-4793-df40-d46d5e753829"
      },
      "outputs": [
        {
          "data": {
            "text/html": [
              "<style>#sk-container-id-1 {\n",
              "  /* Definition of color scheme common for light and dark mode */\n",
              "  --sklearn-color-text: #000;\n",
              "  --sklearn-color-text-muted: #666;\n",
              "  --sklearn-color-line: gray;\n",
              "  /* Definition of color scheme for unfitted estimators */\n",
              "  --sklearn-color-unfitted-level-0: #fff5e6;\n",
              "  --sklearn-color-unfitted-level-1: #f6e4d2;\n",
              "  --sklearn-color-unfitted-level-2: #ffe0b3;\n",
              "  --sklearn-color-unfitted-level-3: chocolate;\n",
              "  /* Definition of color scheme for fitted estimators */\n",
              "  --sklearn-color-fitted-level-0: #f0f8ff;\n",
              "  --sklearn-color-fitted-level-1: #d4ebff;\n",
              "  --sklearn-color-fitted-level-2: #b3dbfd;\n",
              "  --sklearn-color-fitted-level-3: cornflowerblue;\n",
              "\n",
              "  /* Specific color for light theme */\n",
              "  --sklearn-color-text-on-default-background: var(--sg-text-color, var(--theme-code-foreground, var(--jp-content-font-color1, black)));\n",
              "  --sklearn-color-background: var(--sg-background-color, var(--theme-background, var(--jp-layout-color0, white)));\n",
              "  --sklearn-color-border-box: var(--sg-text-color, var(--theme-code-foreground, var(--jp-content-font-color1, black)));\n",
              "  --sklearn-color-icon: #696969;\n",
              "\n",
              "  @media (prefers-color-scheme: dark) {\n",
              "    /* Redefinition of color scheme for dark theme */\n",
              "    --sklearn-color-text-on-default-background: var(--sg-text-color, var(--theme-code-foreground, var(--jp-content-font-color1, white)));\n",
              "    --sklearn-color-background: var(--sg-background-color, var(--theme-background, var(--jp-layout-color0, #111)));\n",
              "    --sklearn-color-border-box: var(--sg-text-color, var(--theme-code-foreground, var(--jp-content-font-color1, white)));\n",
              "    --sklearn-color-icon: #878787;\n",
              "  }\n",
              "}\n",
              "\n",
              "#sk-container-id-1 {\n",
              "  color: var(--sklearn-color-text);\n",
              "}\n",
              "\n",
              "#sk-container-id-1 pre {\n",
              "  padding: 0;\n",
              "}\n",
              "\n",
              "#sk-container-id-1 input.sk-hidden--visually {\n",
              "  border: 0;\n",
              "  clip: rect(1px 1px 1px 1px);\n",
              "  clip: rect(1px, 1px, 1px, 1px);\n",
              "  height: 1px;\n",
              "  margin: -1px;\n",
              "  overflow: hidden;\n",
              "  padding: 0;\n",
              "  position: absolute;\n",
              "  width: 1px;\n",
              "}\n",
              "\n",
              "#sk-container-id-1 div.sk-dashed-wrapped {\n",
              "  border: 1px dashed var(--sklearn-color-line);\n",
              "  margin: 0 0.4em 0.5em 0.4em;\n",
              "  box-sizing: border-box;\n",
              "  padding-bottom: 0.4em;\n",
              "  background-color: var(--sklearn-color-background);\n",
              "}\n",
              "\n",
              "#sk-container-id-1 div.sk-container {\n",
              "  /* jupyter's `normalize.less` sets `[hidden] { display: none; }`\n",
              "     but bootstrap.min.css set `[hidden] { display: none !important; }`\n",
              "     so we also need the `!important` here to be able to override the\n",
              "     default hidden behavior on the sphinx rendered scikit-learn.org.\n",
              "     See: https://github.com/scikit-learn/scikit-learn/issues/21755 */\n",
              "  display: inline-block !important;\n",
              "  position: relative;\n",
              "}\n",
              "\n",
              "#sk-container-id-1 div.sk-text-repr-fallback {\n",
              "  display: none;\n",
              "}\n",
              "\n",
              "div.sk-parallel-item,\n",
              "div.sk-serial,\n",
              "div.sk-item {\n",
              "  /* draw centered vertical line to link estimators */\n",
              "  background-image: linear-gradient(var(--sklearn-color-text-on-default-background), var(--sklearn-color-text-on-default-background));\n",
              "  background-size: 2px 100%;\n",
              "  background-repeat: no-repeat;\n",
              "  background-position: center center;\n",
              "}\n",
              "\n",
              "/* Parallel-specific style estimator block */\n",
              "\n",
              "#sk-container-id-1 div.sk-parallel-item::after {\n",
              "  content: \"\";\n",
              "  width: 100%;\n",
              "  border-bottom: 2px solid var(--sklearn-color-text-on-default-background);\n",
              "  flex-grow: 1;\n",
              "}\n",
              "\n",
              "#sk-container-id-1 div.sk-parallel {\n",
              "  display: flex;\n",
              "  align-items: stretch;\n",
              "  justify-content: center;\n",
              "  background-color: var(--sklearn-color-background);\n",
              "  position: relative;\n",
              "}\n",
              "\n",
              "#sk-container-id-1 div.sk-parallel-item {\n",
              "  display: flex;\n",
              "  flex-direction: column;\n",
              "}\n",
              "\n",
              "#sk-container-id-1 div.sk-parallel-item:first-child::after {\n",
              "  align-self: flex-end;\n",
              "  width: 50%;\n",
              "}\n",
              "\n",
              "#sk-container-id-1 div.sk-parallel-item:last-child::after {\n",
              "  align-self: flex-start;\n",
              "  width: 50%;\n",
              "}\n",
              "\n",
              "#sk-container-id-1 div.sk-parallel-item:only-child::after {\n",
              "  width: 0;\n",
              "}\n",
              "\n",
              "/* Serial-specific style estimator block */\n",
              "\n",
              "#sk-container-id-1 div.sk-serial {\n",
              "  display: flex;\n",
              "  flex-direction: column;\n",
              "  align-items: center;\n",
              "  background-color: var(--sklearn-color-background);\n",
              "  padding-right: 1em;\n",
              "  padding-left: 1em;\n",
              "}\n",
              "\n",
              "\n",
              "/* Toggleable style: style used for estimator/Pipeline/ColumnTransformer box that is\n",
              "clickable and can be expanded/collapsed.\n",
              "- Pipeline and ColumnTransformer use this feature and define the default style\n",
              "- Estimators will overwrite some part of the style using the `sk-estimator` class\n",
              "*/\n",
              "\n",
              "/* Pipeline and ColumnTransformer style (default) */\n",
              "\n",
              "#sk-container-id-1 div.sk-toggleable {\n",
              "  /* Default theme specific background. It is overwritten whether we have a\n",
              "  specific estimator or a Pipeline/ColumnTransformer */\n",
              "  background-color: var(--sklearn-color-background);\n",
              "}\n",
              "\n",
              "/* Toggleable label */\n",
              "#sk-container-id-1 label.sk-toggleable__label {\n",
              "  cursor: pointer;\n",
              "  display: flex;\n",
              "  width: 100%;\n",
              "  margin-bottom: 0;\n",
              "  padding: 0.5em;\n",
              "  box-sizing: border-box;\n",
              "  text-align: center;\n",
              "  align-items: start;\n",
              "  justify-content: space-between;\n",
              "  gap: 0.5em;\n",
              "}\n",
              "\n",
              "#sk-container-id-1 label.sk-toggleable__label .caption {\n",
              "  font-size: 0.6rem;\n",
              "  font-weight: lighter;\n",
              "  color: var(--sklearn-color-text-muted);\n",
              "}\n",
              "\n",
              "#sk-container-id-1 label.sk-toggleable__label-arrow:before {\n",
              "  /* Arrow on the left of the label */\n",
              "  content: \"▸\";\n",
              "  float: left;\n",
              "  margin-right: 0.25em;\n",
              "  color: var(--sklearn-color-icon);\n",
              "}\n",
              "\n",
              "#sk-container-id-1 label.sk-toggleable__label-arrow:hover:before {\n",
              "  color: var(--sklearn-color-text);\n",
              "}\n",
              "\n",
              "/* Toggleable content - dropdown */\n",
              "\n",
              "#sk-container-id-1 div.sk-toggleable__content {\n",
              "  max-height: 0;\n",
              "  max-width: 0;\n",
              "  overflow: hidden;\n",
              "  text-align: left;\n",
              "  /* unfitted */\n",
              "  background-color: var(--sklearn-color-unfitted-level-0);\n",
              "}\n",
              "\n",
              "#sk-container-id-1 div.sk-toggleable__content.fitted {\n",
              "  /* fitted */\n",
              "  background-color: var(--sklearn-color-fitted-level-0);\n",
              "}\n",
              "\n",
              "#sk-container-id-1 div.sk-toggleable__content pre {\n",
              "  margin: 0.2em;\n",
              "  border-radius: 0.25em;\n",
              "  color: var(--sklearn-color-text);\n",
              "  /* unfitted */\n",
              "  background-color: var(--sklearn-color-unfitted-level-0);\n",
              "}\n",
              "\n",
              "#sk-container-id-1 div.sk-toggleable__content.fitted pre {\n",
              "  /* unfitted */\n",
              "  background-color: var(--sklearn-color-fitted-level-0);\n",
              "}\n",
              "\n",
              "#sk-container-id-1 input.sk-toggleable__control:checked~div.sk-toggleable__content {\n",
              "  /* Expand drop-down */\n",
              "  max-height: 200px;\n",
              "  max-width: 100%;\n",
              "  overflow: auto;\n",
              "}\n",
              "\n",
              "#sk-container-id-1 input.sk-toggleable__control:checked~label.sk-toggleable__label-arrow:before {\n",
              "  content: \"▾\";\n",
              "}\n",
              "\n",
              "/* Pipeline/ColumnTransformer-specific style */\n",
              "\n",
              "#sk-container-id-1 div.sk-label input.sk-toggleable__control:checked~label.sk-toggleable__label {\n",
              "  color: var(--sklearn-color-text);\n",
              "  background-color: var(--sklearn-color-unfitted-level-2);\n",
              "}\n",
              "\n",
              "#sk-container-id-1 div.sk-label.fitted input.sk-toggleable__control:checked~label.sk-toggleable__label {\n",
              "  background-color: var(--sklearn-color-fitted-level-2);\n",
              "}\n",
              "\n",
              "/* Estimator-specific style */\n",
              "\n",
              "/* Colorize estimator box */\n",
              "#sk-container-id-1 div.sk-estimator input.sk-toggleable__control:checked~label.sk-toggleable__label {\n",
              "  /* unfitted */\n",
              "  background-color: var(--sklearn-color-unfitted-level-2);\n",
              "}\n",
              "\n",
              "#sk-container-id-1 div.sk-estimator.fitted input.sk-toggleable__control:checked~label.sk-toggleable__label {\n",
              "  /* fitted */\n",
              "  background-color: var(--sklearn-color-fitted-level-2);\n",
              "}\n",
              "\n",
              "#sk-container-id-1 div.sk-label label.sk-toggleable__label,\n",
              "#sk-container-id-1 div.sk-label label {\n",
              "  /* The background is the default theme color */\n",
              "  color: var(--sklearn-color-text-on-default-background);\n",
              "}\n",
              "\n",
              "/* On hover, darken the color of the background */\n",
              "#sk-container-id-1 div.sk-label:hover label.sk-toggleable__label {\n",
              "  color: var(--sklearn-color-text);\n",
              "  background-color: var(--sklearn-color-unfitted-level-2);\n",
              "}\n",
              "\n",
              "/* Label box, darken color on hover, fitted */\n",
              "#sk-container-id-1 div.sk-label.fitted:hover label.sk-toggleable__label.fitted {\n",
              "  color: var(--sklearn-color-text);\n",
              "  background-color: var(--sklearn-color-fitted-level-2);\n",
              "}\n",
              "\n",
              "/* Estimator label */\n",
              "\n",
              "#sk-container-id-1 div.sk-label label {\n",
              "  font-family: monospace;\n",
              "  font-weight: bold;\n",
              "  display: inline-block;\n",
              "  line-height: 1.2em;\n",
              "}\n",
              "\n",
              "#sk-container-id-1 div.sk-label-container {\n",
              "  text-align: center;\n",
              "}\n",
              "\n",
              "/* Estimator-specific */\n",
              "#sk-container-id-1 div.sk-estimator {\n",
              "  font-family: monospace;\n",
              "  border: 1px dotted var(--sklearn-color-border-box);\n",
              "  border-radius: 0.25em;\n",
              "  box-sizing: border-box;\n",
              "  margin-bottom: 0.5em;\n",
              "  /* unfitted */\n",
              "  background-color: var(--sklearn-color-unfitted-level-0);\n",
              "}\n",
              "\n",
              "#sk-container-id-1 div.sk-estimator.fitted {\n",
              "  /* fitted */\n",
              "  background-color: var(--sklearn-color-fitted-level-0);\n",
              "}\n",
              "\n",
              "/* on hover */\n",
              "#sk-container-id-1 div.sk-estimator:hover {\n",
              "  /* unfitted */\n",
              "  background-color: var(--sklearn-color-unfitted-level-2);\n",
              "}\n",
              "\n",
              "#sk-container-id-1 div.sk-estimator.fitted:hover {\n",
              "  /* fitted */\n",
              "  background-color: var(--sklearn-color-fitted-level-2);\n",
              "}\n",
              "\n",
              "/* Specification for estimator info (e.g. \"i\" and \"?\") */\n",
              "\n",
              "/* Common style for \"i\" and \"?\" */\n",
              "\n",
              ".sk-estimator-doc-link,\n",
              "a:link.sk-estimator-doc-link,\n",
              "a:visited.sk-estimator-doc-link {\n",
              "  float: right;\n",
              "  font-size: smaller;\n",
              "  line-height: 1em;\n",
              "  font-family: monospace;\n",
              "  background-color: var(--sklearn-color-background);\n",
              "  border-radius: 1em;\n",
              "  height: 1em;\n",
              "  width: 1em;\n",
              "  text-decoration: none !important;\n",
              "  margin-left: 0.5em;\n",
              "  text-align: center;\n",
              "  /* unfitted */\n",
              "  border: var(--sklearn-color-unfitted-level-1) 1pt solid;\n",
              "  color: var(--sklearn-color-unfitted-level-1);\n",
              "}\n",
              "\n",
              ".sk-estimator-doc-link.fitted,\n",
              "a:link.sk-estimator-doc-link.fitted,\n",
              "a:visited.sk-estimator-doc-link.fitted {\n",
              "  /* fitted */\n",
              "  border: var(--sklearn-color-fitted-level-1) 1pt solid;\n",
              "  color: var(--sklearn-color-fitted-level-1);\n",
              "}\n",
              "\n",
              "/* On hover */\n",
              "div.sk-estimator:hover .sk-estimator-doc-link:hover,\n",
              ".sk-estimator-doc-link:hover,\n",
              "div.sk-label-container:hover .sk-estimator-doc-link:hover,\n",
              ".sk-estimator-doc-link:hover {\n",
              "  /* unfitted */\n",
              "  background-color: var(--sklearn-color-unfitted-level-3);\n",
              "  color: var(--sklearn-color-background);\n",
              "  text-decoration: none;\n",
              "}\n",
              "\n",
              "div.sk-estimator.fitted:hover .sk-estimator-doc-link.fitted:hover,\n",
              ".sk-estimator-doc-link.fitted:hover,\n",
              "div.sk-label-container:hover .sk-estimator-doc-link.fitted:hover,\n",
              ".sk-estimator-doc-link.fitted:hover {\n",
              "  /* fitted */\n",
              "  background-color: var(--sklearn-color-fitted-level-3);\n",
              "  color: var(--sklearn-color-background);\n",
              "  text-decoration: none;\n",
              "}\n",
              "\n",
              "/* Span, style for the box shown on hovering the info icon */\n",
              ".sk-estimator-doc-link span {\n",
              "  display: none;\n",
              "  z-index: 9999;\n",
              "  position: relative;\n",
              "  font-weight: normal;\n",
              "  right: .2ex;\n",
              "  padding: .5ex;\n",
              "  margin: .5ex;\n",
              "  width: min-content;\n",
              "  min-width: 20ex;\n",
              "  max-width: 50ex;\n",
              "  color: var(--sklearn-color-text);\n",
              "  box-shadow: 2pt 2pt 4pt #999;\n",
              "  /* unfitted */\n",
              "  background: var(--sklearn-color-unfitted-level-0);\n",
              "  border: .5pt solid var(--sklearn-color-unfitted-level-3);\n",
              "}\n",
              "\n",
              ".sk-estimator-doc-link.fitted span {\n",
              "  /* fitted */\n",
              "  background: var(--sklearn-color-fitted-level-0);\n",
              "  border: var(--sklearn-color-fitted-level-3);\n",
              "}\n",
              "\n",
              ".sk-estimator-doc-link:hover span {\n",
              "  display: block;\n",
              "}\n",
              "\n",
              "/* \"?\"-specific style due to the `<a>` HTML tag */\n",
              "\n",
              "#sk-container-id-1 a.estimator_doc_link {\n",
              "  float: right;\n",
              "  font-size: 1rem;\n",
              "  line-height: 1em;\n",
              "  font-family: monospace;\n",
              "  background-color: var(--sklearn-color-background);\n",
              "  border-radius: 1rem;\n",
              "  height: 1rem;\n",
              "  width: 1rem;\n",
              "  text-decoration: none;\n",
              "  /* unfitted */\n",
              "  color: var(--sklearn-color-unfitted-level-1);\n",
              "  border: var(--sklearn-color-unfitted-level-1) 1pt solid;\n",
              "}\n",
              "\n",
              "#sk-container-id-1 a.estimator_doc_link.fitted {\n",
              "  /* fitted */\n",
              "  border: var(--sklearn-color-fitted-level-1) 1pt solid;\n",
              "  color: var(--sklearn-color-fitted-level-1);\n",
              "}\n",
              "\n",
              "/* On hover */\n",
              "#sk-container-id-1 a.estimator_doc_link:hover {\n",
              "  /* unfitted */\n",
              "  background-color: var(--sklearn-color-unfitted-level-3);\n",
              "  color: var(--sklearn-color-background);\n",
              "  text-decoration: none;\n",
              "}\n",
              "\n",
              "#sk-container-id-1 a.estimator_doc_link.fitted:hover {\n",
              "  /* fitted */\n",
              "  background-color: var(--sklearn-color-fitted-level-3);\n",
              "}\n",
              "</style><div id=\"sk-container-id-1\" class=\"sk-top-container\"><div class=\"sk-text-repr-fallback\"><pre>RandomForestRegressor(random_state=42)</pre><b>In a Jupyter environment, please rerun this cell to show the HTML representation or trust the notebook. <br />On GitHub, the HTML representation is unable to render, please try loading this page with nbviewer.org.</b></div><div class=\"sk-container\" hidden><div class=\"sk-item\"><div class=\"sk-estimator fitted sk-toggleable\"><input class=\"sk-toggleable__control sk-hidden--visually\" id=\"sk-estimator-id-1\" type=\"checkbox\" checked><label for=\"sk-estimator-id-1\" class=\"sk-toggleable__label fitted sk-toggleable__label-arrow\"><div><div>RandomForestRegressor</div></div><div><a class=\"sk-estimator-doc-link fitted\" rel=\"noreferrer\" target=\"_blank\" href=\"https://scikit-learn.org/1.6/modules/generated/sklearn.ensemble.RandomForestRegressor.html\">?<span>Documentation for RandomForestRegressor</span></a><span class=\"sk-estimator-doc-link fitted\">i<span>Fitted</span></span></div></label><div class=\"sk-toggleable__content fitted\"><pre>RandomForestRegressor(random_state=42)</pre></div> </div></div></div></div>"
            ],
            "text/plain": [
              "RandomForestRegressor(random_state=42)"
            ]
          },
          "execution_count": 56,
          "metadata": {},
          "output_type": "execute_result"
        }
      ],
      "source": [
        "from sklearn.ensemble import RandomForestRegressor\n",
        "\n",
        "model = RandomForestRegressor(random_state=42)\n",
        "model.fit(X_train1, y_train1)\n"
      ]
    },
    {
      "cell_type": "code",
      "execution_count": null,
      "metadata": {
        "colab": {
          "base_uri": "https://localhost:8080/",
          "height": 607
        },
        "id": "LFnv-IqK63bC",
        "outputId": "e4170652-1e93-468b-fc9e-20d0e58068dc"
      },
      "outputs": [
        {
          "data": {
            "image/png": "[encoded data removed]",
            "text/plain": [
              "<Figure size 1000x600 with 1 Axes>"
            ]
          },
          "metadata": {},
          "output_type": "display_data"
        }
      ],
      "source": [
        "importances = model.feature_importances_\n",
        "feature_names = X.columns\n",
        "feat_imp_df = pd.DataFrame({\n",
        "    'Feature': feature_names,\n",
        "    'Importance': importances\n",
        "}).sort_values(by='Importance', ascending=False)\n",
        "\n",
        "# Visualizing\n",
        "plt.figure(figsize=(10, 6))\n",
        "plt.barh(feat_imp_df['Feature'][:20][::-1], feat_imp_df['Importance'][:20][::-1])\n",
        "plt.xlabel('Importance')\n",
        "plt.title('Top 20 Features for Maintenance Score')\n",
        "plt.tight_layout()\n",
        "plt.show()"
      ]
    },
    {
      "cell_type": "markdown",
      "metadata": {
        "id": "bDp22LjkUiPH"
      },
      "source": [
        "###Maintenance score predictions\n",
        "---\n",
        "splitting"
      ]
    },
    {
      "cell_type": "code",
      "execution_count": null,
      "metadata": {
        "id": "fTKef4ac77ci"
      },
      "outputs": [],
      "source": [
        "from sklearn.model_selection import train_test_split\n",
        "\n",
        "top_features = feat_imp_df['Feature'].head(20) # Top features from feature importance\n",
        "\n",
        "X_top = training_table[top_features]\n",
        "\n",
        "y = training_table['maintenance_score']\n",
        "\n",
        "X_train, X_test, y_train, y_test = train_test_split(X_top, y, test_size=0.2, random_state=42)"
      ]
    },
    {
      "cell_type": "markdown",
      "metadata": {
        "id": "V6Sncv4w9UqT"
      },
      "source": [
        "### fitting and testing models"
      ]
    },
    {
      "cell_type": "markdown",
      "metadata": {
        "id": "WnRRaxj3XF_R"
      },
      "source": [
        "Function to get the score of each model\n",
        "\n",
        "Also it checks if X_train-y_train and X_train-y_train have the same number of lines. If not returns a message"
      ]
    },
    {
      "cell_type": "code",
      "execution_count": null,
      "metadata": {
        "id": "qqi70m4gWoRq"
      },
      "outputs": [],
      "source": [
        "def get_score(model, X_train, X_test ,y_train, y_test):\n",
        "  assert len(X_train) == len(y_train), \"Train X and y mismatch\"\n",
        "  assert len(X_test) == len(y_test), \"Test X and y mismatch\"\n",
        "  model.fit(X_train, y_train)\n",
        "  return model.score(X_test, y_test)"
      ]
    },
    {
      "cell_type": "code",
      "execution_count": null,
      "metadata": {
        "id": "U2KLRYB6X9OI"
      },
      "outputs": [],
      "source": [
        "# importing the  models\n",
        "from sklearn.ensemble import RandomForestRegressor\n",
        "from sklearn.svm import SVR\n",
        "from sklearn.neighbors import KNeighborsRegressor\n",
        "\n",
        "rf_model = RandomForestRegressor(n_estimators=100)\n",
        "svm_model = SVR()\n",
        "knn_model = KNeighborsRegressor()"
      ]
    },
    {
      "cell_type": "code",
      "execution_count": null,
      "metadata": {
        "colab": {
          "base_uri": "https://localhost:8080/"
        },
        "id": "8OXkdef4QF8S",
        "outputId": "38a3eddd-5888-4885-f476-cb7127273be3"
      },
      "outputs": [
        {
          "name": "stdout",
          "output_type": "stream",
          "text": [
            "rf score:0.9995345850331426\n",
            "svm score:0.821805971930817\n",
            "kneighbohrs score:0.9791372556139573\n"
          ]
        }
      ],
      "source": [
        "print(\"rf score:\" + str(get_score(rf_model, X_train, X_test, y_train, y_test)))\n",
        "print(\"svm score:\" + str(get_score(svm_model, X_train, X_test, y_train, y_test)))\n",
        "print(\"kneighbohrs score:\" + str(get_score(knn_model, X_train, X_test, y_train, y_test)))"
      ]
    },
    {
      "cell_type": "markdown",
      "metadata": {
        "id": "N7EkoE9K7vNU"
      },
      "source": [
        "I'm going to try to use kfold cross validation"
      ]
    },
    {
      "cell_type": "code",
      "execution_count": null,
      "metadata": {
        "id": "29wm7_b4QtGD"
      },
      "outputs": [],
      "source": [
        "from sklearn.model_selection import KFold, cross_val_score\n",
        "\n",
        "kfold = KFold(n_splits=10, shuffle=True, random_state=42)\n",
        "\n",
        "rf_scores = cross_val_score(rf_model, X_train, y_train, cv=kfold, scoring='r2')\n",
        "svm_scores = cross_val_score(svm_model, X_train, y_train, cv=kfold, scoring='r2')\n",
        "knn_scores = cross_val_score(knn_model, X_train, y_train, cv=kfold, scoring='r2')"
      ]
    },
    {
      "cell_type": "code",
      "execution_count": null,
      "metadata": {
        "colab": {
          "base_uri": "https://localhost:8080/"
        },
        "id": "KSiJftTGScF3",
        "outputId": "047bf344-061a-4a26-f3da-1130217bae6e"
      },
      "outputs": [
        {
          "data": {
            "text/plain": [
              "array([0.99954778, 0.9990873 , 0.99710208, 0.99718045, 0.99937329,\n",
              "       0.99850367, 0.99963169, 0.99962926, 0.99877323, 0.99865715])"
            ]
          },
          "execution_count": 63,
          "metadata": {},
          "output_type": "execute_result"
        }
      ],
      "source": [
        "rf_scores"
      ]
    },
    {
      "cell_type": "code",
      "execution_count": null,
      "metadata": {
        "colab": {
          "base_uri": "https://localhost:8080/"
        },
        "id": "kq6DtFIhR9BP",
        "outputId": "6aea2f9d-00b1-41eb-e2dc-cb827f98d514"
      },
      "outputs": [
        {
          "data": {
            "text/plain": [
              "array([0.80603458, 0.77110483, 0.75705454, 0.76933226, 0.68348224,\n",
              "       0.80856683, 0.73677992, 0.79125405, 0.81429098, 0.69171585])"
            ]
          },
          "execution_count": 64,
          "metadata": {},
          "output_type": "execute_result"
        }
      ],
      "source": [
        "svm_scores"
      ]
    },
    {
      "cell_type": "code",
      "execution_count": null,
      "metadata": {
        "colab": {
          "base_uri": "https://localhost:8080/"
        },
        "id": "WLEzbmteSAkw",
        "outputId": "46e1f32b-f093-46c8-e5d2-514e0a29e7a3"
      },
      "outputs": [
        {
          "data": {
            "text/plain": [
              "array([0.9765244 , 0.95677725, 0.97145342, 0.9636045 , 0.9112657 ,\n",
              "       0.9713887 , 0.97302891, 0.97984475, 0.96508813, 0.95206871])"
            ]
          },
          "execution_count": 65,
          "metadata": {},
          "output_type": "execute_result"
        }
      ],
      "source": [
        "knn_scores"
      ]
    },
    {
      "cell_type": "code",
      "execution_count": null,
      "metadata": {
        "id": "OSGZLp49I2B2"
      },
      "outputs": [],
      "source": [
        "def get_av(score_list):\n",
        "  av_score = np.median(score_list)\n",
        "  return av_score"
      ]
    },
    {
      "cell_type": "code",
      "execution_count": null,
      "metadata": {
        "colab": {
          "base_uri": "https://localhost:8080/"
        },
        "id": "X2lDRh8sRvk8",
        "outputId": "f32d99d0-8576-493b-926e-7d7e9b98ba53"
      },
      "outputs": [
        {
          "data": {
            "text/plain": [
              "np.float64(0.9989302689734894)"
            ]
          },
          "execution_count": 67,
          "metadata": {},
          "output_type": "execute_result"
        }
      ],
      "source": [
        "get_av(rf_scores) # average of rf"
      ]
    },
    {
      "cell_type": "code",
      "execution_count": null,
      "metadata": {
        "colab": {
          "base_uri": "https://localhost:8080/"
        },
        "id": "8VQidgAgSD7n",
        "outputId": "e05932b2-0aac-4de9-81cf-b75b49aef420"
      },
      "outputs": [
        {
          "data": {
            "text/plain": [
              "np.float64(0.7702185432809351)"
            ]
          },
          "execution_count": 68,
          "metadata": {},
          "output_type": "execute_result"
        }
      ],
      "source": [
        "get_av(svm_scores) # average of svm"
      ]
    },
    {
      "cell_type": "code",
      "execution_count": null,
      "metadata": {
        "colab": {
          "base_uri": "https://localhost:8080/"
        },
        "id": "HEWBU55XR6yE",
        "outputId": "d7d35d1f-67ca-4679-f5b2-ad6e5ae32cb7"
      },
      "outputs": [
        {
          "data": {
            "text/plain": [
              "np.float64(0.968238415843142)"
            ]
          },
          "execution_count": 69,
          "metadata": {},
          "output_type": "execute_result"
        }
      ],
      "source": [
        "get_av(knn_scores) # average of knn"
      ]
    },
    {
      "cell_type": "markdown",
      "metadata": {
        "id": "jTe1vqmNSopH"
      },
      "source": [
        "As we see the rf model is the most accurate"
      ]
    },
    {
      "cell_type": "markdown",
      "metadata": {
        "id": "cd4yt7cIT6CX"
      },
      "source": [
        "###failure flag predictions"
      ]
    },
    {
      "cell_type": "code",
      "execution_count": null,
      "metadata": {
        "id": "sGbhH0BXVGWK"
      },
      "outputs": [],
      "source": [
        "# importing the  models\n",
        "from sklearn.ensemble import RandomForestClassifier\n",
        "from sklearn.svm import SVC\n",
        "from sklearn.neighbors import KNeighborsClassifier"
      ]
    },
    {
      "cell_type": "markdown",
      "metadata": {
        "id": "HmlrUCdPY8GL"
      },
      "source": [
        "splitting the data"
      ]
    },
    {
      "cell_type": "code",
      "execution_count": null,
      "metadata": {
        "id": "_v8EAHFCY5hk"
      },
      "outputs": [],
      "source": [
        "X_ff = training_table.drop(columns=['failure_flag','rul','health_state']) #removing 'failure_flag','rul','health_state' so we will not have data leakage\n",
        "\n",
        "y_ff = training_table['failure_flag']\n",
        "\n",
        "X_train_ff, X_test_ff, y_train_ff, y_test_ff = train_test_split(\n",
        "    X_ff, y_ff, test_size=0.2, random_state=42, stratify=y_ff\n",
        ")"
      ]
    },
    {
      "cell_type": "markdown",
      "metadata": {
        "id": "67Hv7YsbcBlq"
      },
      "source": [
        "defining the model"
      ]
    },
    {
      "cell_type": "code",
      "execution_count": null,
      "metadata": {
        "id": "01fqsAoEb4bE"
      },
      "outputs": [],
      "source": [
        "rf_clas = RandomForestClassifier()"
      ]
    },
    {
      "cell_type": "markdown",
      "metadata": {
        "id": "7UCrqLqMesUv"
      },
      "source": [
        "scoring"
      ]
    },
    {
      "cell_type": "code",
      "execution_count": null,
      "metadata": {
        "colab": {
          "base_uri": "https://localhost:8080/"
        },
        "id": "g5ZOt4gacjzk",
        "outputId": "4f7b0f40-3c3b-4ee7-c3f3-8a2e0ba97569"
      },
      "outputs": [
        {
          "data": {
            "text/plain": [
              "0.9954648526077098"
            ]
          },
          "execution_count": 73,
          "metadata": {},
          "output_type": "execute_result"
        }
      ],
      "source": [
        "get_score(rf_clas, X_train_ff, X_test_ff, y_train_ff, y_test_ff)"
      ]
    },
    {
      "cell_type": "markdown",
      "metadata": {
        "id": "JM_I_QqseE3u"
      },
      "source": [
        "### health_state predictions"
      ]
    },
    {
      "cell_type": "markdown",
      "metadata": {
        "id": "BQAY1CrWgcS8"
      },
      "source": [
        "splitting"
      ]
    },
    {
      "cell_type": "code",
      "execution_count": null,
      "metadata": {
        "id": "VAQc4eCleWtT"
      },
      "outputs": [],
      "source": [
        "X_hs = training_table.drop(columns=['failure_flag','rul','health_state']) #removing 'failure_flag','rul','health_state' so we will not have data leakage\n",
        "\n",
        "y_hs = training_table['health_state']\n",
        "\n",
        "X_train_hs, X_test_hs, y_train_hs, y_test_hs = train_test_split(\n",
        "    X_hs, y_hs, test_size=0.2, random_state=42, stratify=y_hs\n",
        ")"
      ]
    },
    {
      "cell_type": "markdown",
      "metadata": {
        "id": "czbT7al5epGY"
      },
      "source": [
        "scoring"
      ]
    },
    {
      "cell_type": "code",
      "execution_count": null,
      "metadata": {
        "colab": {
          "base_uri": "https://localhost:8080/"
        },
        "id": "0XBDUPv_ehOE",
        "outputId": "7c021f14-ce0f-4537-979e-5fdd5d3c95ac"
      },
      "outputs": [
        {
          "data": {
            "text/plain": [
              "1.0"
            ]
          },
          "execution_count": 75,
          "metadata": {},
          "output_type": "execute_result"
        }
      ],
      "source": [
        "get_score(rf_clas, X_train_hs, X_test_hs, y_train_hs, y_test_hs)"
      ]
    },
    {
      "cell_type": "markdown",
      "metadata": {
        "id": "XRb9cPTAe0Cn"
      },
      "source": [
        "### rul predictions"
      ]
    },
    {
      "cell_type": "markdown",
      "metadata": {
        "id": "AXbpE7dcgd8N"
      },
      "source": [
        "splitting"
      ]
    },
    {
      "cell_type": "code",
      "execution_count": null,
      "metadata": {
        "id": "H108dQ4Fe2BA"
      },
      "outputs": [],
      "source": [
        "X_rul = training_table.drop(columns=['failure_flag','rul','health_state']) #removing 'failure_flag','rul','health_state' so we will not have data leakage\n",
        "\n",
        "y_rul = training_table['rul']\n",
        "\n",
        "X_train_rul, X_test_rul, y_train_rul, y_test_rul = train_test_split(\n",
        "    X_rul, y_rul, test_size=0.2, random_state=42, stratify=y_rul\n",
        ")"
      ]
    },
    {
      "cell_type": "markdown",
      "metadata": {
        "id": "LEvWSEkKggTI"
      },
      "source": [
        "scoring"
      ]
    },
    {
      "cell_type": "code",
      "execution_count": null,
      "metadata": {
        "colab": {
          "base_uri": "https://localhost:8080/"
        },
        "id": "00L5aNoEgnvm",
        "outputId": "5a61725b-4f15-4cfd-b0d4-f8fdd43958f8"
      },
      "outputs": [
        {
          "data": {
            "text/plain": [
              "0.9985180625912757"
            ]
          },
          "execution_count": 78,
          "metadata": {},
          "output_type": "execute_result"
        }
      ],
      "source": [
        "get_score(rf_model, X_train_rul, X_test_rul, y_train_rul, y_test_rul)"
      ]
    },
    {
      "cell_type": "markdown",
      "metadata": {},
      "source": [
        "# Extract Model"
      ]
    },
    {
      "cell_type": "markdown",
      "metadata": {},
      "source": [
        "### Regressing models"
      ]
    },
    {
      "cell_type": "code",
      "execution_count": null,
      "metadata": {},
      "outputs": [],
      "source": [
        "import os\n",
        "import pickle\n",
        "\n",
        "# Example RandomForest models\n",
        "\n",
        "# Replace these variables with your actual trained models\n",
        "classifier_model = rf_clas\n",
        "regressor_model = rf_model   # Your RandomForestRegressor model\n",
        "\n",
        "# Define folder\n",
        "models_folder = \"models\"\n",
        "\n",
        "# Create the folder if it doesn't exist\n",
        "os.makedirs(models_folder, exist_ok=True)\n",
        "\n",
        "# Paths to save the models\n",
        "classifier_path = os.path.join(models_folder, \"random_forest_classifier.pkl\")\n",
        "regressor_path = os.path.join(models_folder, \"random_forest_regressor.pkl\")\n",
        "\n",
        "# Save the models\n",
        "with open(classifier_path, 'wb') as clf_file:\n",
        "    pickle.dump(classifier_model, clf_file)\n",
        "\n",
        "with open(regressor_path, 'wb') as reg_file:\n",
        "    pickle.dump(regressor_model, reg_file)\n",
        "\n",
        "print(f\"✅ Models saved successfully in '{models_folder}/'!\")"
      ]
    },
    {
      "cell_type": "markdown",
      "metadata": {
        "id": "XH0hkW9KMi_f"
      },
      "source": [
        "# Deep Learning"
      ]
    },
    {
      "cell_type": "code",
      "execution_count": null,
      "metadata": {
        "id": "pAjeE0KYM3CH"
      },
      "outputs": [],
      "source": [
        "import tensorflow as tf\n",
        "from tensorflow.keras.models import Sequential\n",
        "from tensorflow.keras.layers import Dense\n",
        "from sklearn.metrics import mean_squared_error, r2_score"
      ]
    },
    {
      "cell_type": "markdown",
      "metadata": {
        "id": "xCznvXIvrnYy"
      },
      "source": [
        "Scalling the data"
      ]
    },
    {
      "cell_type": "code",
      "execution_count": null,
      "metadata": {
        "id": "nfK-vQYLsGpd"
      },
      "outputs": [],
      "source": [
        "from sklearn.preprocessing import StandardScaler\n",
        "\n",
        "scaler = StandardScaler()\n",
        "\n",
        "X_train_scaled = scaler.fit_transform(X_train)\n",
        "X_test_scaled = scaler.transform(X_test) # no fit here because there will be data leakage"
      ]
    },
    {
      "cell_type": "markdown",
      "metadata": {
        "id": "r41iwzb2S8JO"
      },
      "source": [
        "ReLU (Rectified Linear Unit) :\n",
        "f(x) = max(0, x)"
      ]
    },
    {
      "cell_type": "code",
      "execution_count": null,
      "metadata": {
        "id": "QMeuD7niM7ej"
      },
      "outputs": [],
      "source": [
        "dl_model = Sequential()\n",
        "dl_model.add(Dense(128, activation='relu', input_shape=(X_train.shape[1],)))\n",
        "dl_model.add(Dense(64, activation='relu'))\n",
        "dl_model.add(Dense(32, activation='relu'))\n",
        "dl_model.add(Dense(1))\n"
      ]
    },
    {
      "cell_type": "code",
      "execution_count": null,
      "metadata": {
        "id": "REfeAw7QPEEb"
      },
      "outputs": [],
      "source": [
        "dl_model.compile(optimizer='adam', loss='mse', metrics=['mae']) #compiling"
      ]
    },
    {
      "cell_type": "code",
      "execution_count": null,
      "metadata": {
        "colab": {
          "base_uri": "https://localhost:8080/"
        },
        "id": "lneEghsQPI6i",
        "outputId": "fb5a6a78-ed7b-4c15-8bc5-6e1ab38b09cb"
      },
      "outputs": [
        {
          "name": "stdout",
          "output_type": "stream",
          "text": [
            "Epoch 1/100\n",
            "\u001b[1m89/89\u001b[0m \u001b[32m━━━━━━━━━━━━━━━━━━━━\u001b[0m\u001b[37m\u001b[0m \u001b[1m3s\u001b[0m 9ms/step - loss: 0.0513 - mae: 0.1424 - val_loss: 0.0046 - val_mae: 0.0483\n",
            "Epoch 2/100\n",
            "\u001b[1m89/89\u001b[0m \u001b[32m━━━━━━━━━━━━━━━━━━━━\u001b[0m\u001b[37m\u001b[0m \u001b[1m1s\u001b[0m 6ms/step - loss: 0.0043 - mae: 0.0417 - val_loss: 0.0013 - val_mae: 0.0267\n",
            "Epoch 3/100\n",
            "\u001b[1m89/89\u001b[0m \u001b[32m━━━━━━━━━━━━━━━━━━━━\u001b[0m\u001b[37m\u001b[0m \u001b[1m1s\u001b[0m 6ms/step - loss: 0.0011 - mae: 0.0233 - val_loss: 9.4543e-04 - val_mae: 0.0231\n",
            "Epoch 4/100\n",
            "\u001b[1m89/89\u001b[0m \u001b[32m━━━━━━━━━━━━━━━━━━━━\u001b[0m\u001b[37m\u001b[0m \u001b[1m1s\u001b[0m 6ms/step - loss: 9.8093e-04 - mae: 0.0228 - val_loss: 6.1215e-04 - val_mae: 0.0177\n",
            "Epoch 5/100\n",
            "\u001b[1m89/89\u001b[0m \u001b[32m━━━━━━━━━━━━━━━━━━━━\u001b[0m\u001b[37m\u001b[0m \u001b[1m1s\u001b[0m 9ms/step - loss: 6.8820e-04 - mae: 0.0187 - val_loss: 9.0344e-04 - val_mae: 0.0222\n",
            "Epoch 6/100\n",
            "\u001b[1m89/89\u001b[0m \u001b[32m━━━━━━━━━━━━━━━━━━━━\u001b[0m\u001b[37m\u001b[0m \u001b[1m1s\u001b[0m 9ms/step - loss: 0.0015 - mae: 0.0209 - val_loss: 7.2281e-04 - val_mae: 0.0181\n",
            "Epoch 7/100\n",
            "\u001b[1m89/89\u001b[0m \u001b[32m━━━━━━━━━━━━━━━━━━━━\u001b[0m\u001b[37m\u001b[0m \u001b[1m1s\u001b[0m 6ms/step - loss: 0.0056 - mae: 0.0229 - val_loss: 0.0012 - val_mae: 0.0264\n",
            "Epoch 8/100\n",
            "\u001b[1m89/89\u001b[0m \u001b[32m━━━━━━━━━━━━━━━━━━━━\u001b[0m\u001b[37m\u001b[0m \u001b[1m1s\u001b[0m 6ms/step - loss: 0.0011 - mae: 0.0205 - val_loss: 6.6811e-04 - val_mae: 0.0183\n",
            "Epoch 9/100\n",
            "\u001b[1m89/89\u001b[0m \u001b[32m━━━━━━━━━━━━━━━━━━━━\u001b[0m\u001b[37m\u001b[0m \u001b[1m1s\u001b[0m 6ms/step - loss: 6.4866e-04 - mae: 0.0164 - val_loss: 9.7103e-04 - val_mae: 0.0208\n",
            "Epoch 10/100\n",
            "\u001b[1m89/89\u001b[0m \u001b[32m━━━━━━━━━━━━━━━━━━━━\u001b[0m\u001b[37m\u001b[0m \u001b[1m1s\u001b[0m 6ms/step - loss: 0.0047 - mae: 0.0293 - val_loss: 5.1595e-04 - val_mae: 0.0158\n",
            "Epoch 11/100\n",
            "\u001b[1m89/89\u001b[0m \u001b[32m━━━━━━━━━━━━━━━━━━━━\u001b[0m\u001b[37m\u001b[0m \u001b[1m1s\u001b[0m 5ms/step - loss: 0.0015 - mae: 0.0168 - val_loss: 5.7838e-04 - val_mae: 0.0165\n",
            "Epoch 12/100\n",
            "\u001b[1m89/89\u001b[0m \u001b[32m━━━━━━━━━━━━━━━━━━━━\u001b[0m\u001b[37m\u001b[0m \u001b[1m1s\u001b[0m 6ms/step - loss: 6.0813e-04 - mae: 0.0142 - val_loss: 5.7983e-04 - val_mae: 0.0173\n",
            "Epoch 13/100\n",
            "\u001b[1m89/89\u001b[0m \u001b[32m━━━━━━━━━━━━━━━━━━━━\u001b[0m\u001b[37m\u001b[0m \u001b[1m1s\u001b[0m 6ms/step - loss: 3.5266e-04 - mae: 0.0134 - val_loss: 3.3056e-04 - val_mae: 0.0118\n",
            "Epoch 14/100\n",
            "\u001b[1m89/89\u001b[0m \u001b[32m━━━━━━━━━━━━━━━━━━━━\u001b[0m\u001b[37m\u001b[0m \u001b[1m1s\u001b[0m 5ms/step - loss: 5.4755e-04 - mae: 0.0140 - val_loss: 6.4621e-04 - val_mae: 0.0189\n",
            "Epoch 15/100\n",
            "\u001b[1m89/89\u001b[0m \u001b[32m━━━━━━━━━━━━━━━━━━━━\u001b[0m\u001b[37m\u001b[0m \u001b[1m1s\u001b[0m 6ms/step - loss: 4.1989e-04 - mae: 0.0144 - val_loss: 2.6767e-04 - val_mae: 0.0101\n",
            "Epoch 16/100\n",
            "\u001b[1m89/89\u001b[0m \u001b[32m━━━━━━━━━━━━━━━━━━━━\u001b[0m\u001b[37m\u001b[0m \u001b[1m1s\u001b[0m 5ms/step - loss: 2.3781e-04 - mae: 0.0098 - val_loss: 3.5697e-04 - val_mae: 0.0122\n",
            "Epoch 17/100\n",
            "\u001b[1m89/89\u001b[0m \u001b[32m━━━━━━━━━━━━━━━━━━━━\u001b[0m\u001b[37m\u001b[0m \u001b[1m0s\u001b[0m 5ms/step - loss: 2.9571e-04 - mae: 0.0095 - val_loss: 2.9181e-04 - val_mae: 0.0108\n",
            "Epoch 18/100\n",
            "\u001b[1m89/89\u001b[0m \u001b[32m━━━━━━━━━━━━━━━━━━━━\u001b[0m\u001b[37m\u001b[0m \u001b[1m1s\u001b[0m 5ms/step - loss: 1.7562e-04 - mae: 0.0086 - val_loss: 2.1212e-04 - val_mae: 0.0095\n",
            "Epoch 19/100\n",
            "\u001b[1m89/89\u001b[0m \u001b[32m━━━━━━━━━━━━━━━━━━━━\u001b[0m\u001b[37m\u001b[0m \u001b[1m0s\u001b[0m 5ms/step - loss: 1.6313e-04 - mae: 0.0088 - val_loss: 2.1348e-04 - val_mae: 0.0100\n",
            "Epoch 20/100\n",
            "\u001b[1m89/89\u001b[0m \u001b[32m━━━━━━━━━━━━━━━━━━━━\u001b[0m\u001b[37m\u001b[0m \u001b[1m1s\u001b[0m 6ms/step - loss: 1.5067e-04 - mae: 0.0081 - val_loss: 4.7857e-04 - val_mae: 0.0117\n",
            "Epoch 21/100\n",
            "\u001b[1m89/89\u001b[0m \u001b[32m━━━━━━━━━━━━━━━━━━━━\u001b[0m\u001b[37m\u001b[0m \u001b[1m1s\u001b[0m 5ms/step - loss: 3.0215e-04 - mae: 0.0108 - val_loss: 5.5222e-04 - val_mae: 0.0169\n",
            "Epoch 22/100\n",
            "\u001b[1m89/89\u001b[0m \u001b[32m━━━━━━━━━━━━━━━━━━━━\u001b[0m\u001b[37m\u001b[0m \u001b[1m1s\u001b[0m 6ms/step - loss: 3.4759e-04 - mae: 0.0138 - val_loss: 4.6941e-04 - val_mae: 0.0119\n",
            "Epoch 23/100\n",
            "\u001b[1m89/89\u001b[0m \u001b[32m━━━━━━━━━━━━━━━━━━━━\u001b[0m\u001b[37m\u001b[0m \u001b[1m1s\u001b[0m 8ms/step - loss: 2.6431e-04 - mae: 0.0096 - val_loss: 2.6898e-04 - val_mae: 0.0112\n",
            "Epoch 24/100\n",
            "\u001b[1m89/89\u001b[0m \u001b[32m━━━━━━━━━━━━━━━━━━━━\u001b[0m\u001b[37m\u001b[0m \u001b[1m1s\u001b[0m 9ms/step - loss: 2.6822e-04 - mae: 0.0106 - val_loss: 2.2759e-04 - val_mae: 0.0102\n",
            "Epoch 25/100\n",
            "\u001b[1m89/89\u001b[0m \u001b[32m━━━━━━━━━━━━━━━━━━━━\u001b[0m\u001b[37m\u001b[0m \u001b[1m1s\u001b[0m 8ms/step - loss: 2.5841e-04 - mae: 0.0111 - val_loss: 8.6009e-04 - val_mae: 0.0230\n",
            "Epoch 26/100\n",
            "\u001b[1m89/89\u001b[0m \u001b[32m━━━━━━━━━━━━━━━━━━━━\u001b[0m\u001b[37m\u001b[0m \u001b[1m1s\u001b[0m 5ms/step - loss: 4.5777e-04 - mae: 0.0147 - val_loss: 3.0498e-04 - val_mae: 0.0128\n",
            "Epoch 27/100\n",
            "\u001b[1m89/89\u001b[0m \u001b[32m━━━━━━━━━━━━━━━━━━━━\u001b[0m\u001b[37m\u001b[0m \u001b[1m1s\u001b[0m 6ms/step - loss: 1.7476e-04 - mae: 0.0099 - val_loss: 2.4111e-04 - val_mae: 0.0110\n",
            "Epoch 28/100\n",
            "\u001b[1m89/89\u001b[0m \u001b[32m━━━━━━━━━━━━━━━━━━━━\u001b[0m\u001b[37m\u001b[0m \u001b[1m1s\u001b[0m 5ms/step - loss: 2.3592e-04 - mae: 0.0102 - val_loss: 1.8213e-04 - val_mae: 0.0092\n",
            "Epoch 29/100\n",
            "\u001b[1m89/89\u001b[0m \u001b[32m━━━━━━━━━━━━━━━━━━━━\u001b[0m\u001b[37m\u001b[0m \u001b[1m1s\u001b[0m 6ms/step - loss: 1.6355e-04 - mae: 0.0087 - val_loss: 4.9625e-04 - val_mae: 0.0155\n",
            "Epoch 30/100\n",
            "\u001b[1m89/89\u001b[0m \u001b[32m━━━━━━━━━━━━━━━━━━━━\u001b[0m\u001b[37m\u001b[0m \u001b[1m1s\u001b[0m 6ms/step - loss: 2.9580e-04 - mae: 0.0114 - val_loss: 3.5278e-04 - val_mae: 0.0141\n",
            "Epoch 31/100\n",
            "\u001b[1m89/89\u001b[0m \u001b[32m━━━━━━━━━━━━━━━━━━━━\u001b[0m\u001b[37m\u001b[0m \u001b[1m1s\u001b[0m 6ms/step - loss: 2.9886e-04 - mae: 0.0123 - val_loss: 6.1959e-04 - val_mae: 0.0165\n",
            "Epoch 32/100\n",
            "\u001b[1m89/89\u001b[0m \u001b[32m━━━━━━━━━━━━━━━━━━━━\u001b[0m\u001b[37m\u001b[0m \u001b[1m0s\u001b[0m 5ms/step - loss: 4.3723e-04 - mae: 0.0125 - val_loss: 2.1787e-04 - val_mae: 0.0112\n",
            "Epoch 33/100\n",
            "\u001b[1m89/89\u001b[0m \u001b[32m━━━━━━━━━━━━━━━━━━━━\u001b[0m\u001b[37m\u001b[0m \u001b[1m1s\u001b[0m 5ms/step - loss: 1.6001e-04 - mae: 0.0089 - val_loss: 2.2264e-04 - val_mae: 0.0113\n",
            "Epoch 34/100\n",
            "\u001b[1m89/89\u001b[0m \u001b[32m━━━━━━━━━━━━━━━━━━━━\u001b[0m\u001b[37m\u001b[0m \u001b[1m1s\u001b[0m 6ms/step - loss: 1.7976e-04 - mae: 0.0088 - val_loss: 1.5620e-04 - val_mae: 0.0082\n",
            "Epoch 35/100\n",
            "\u001b[1m89/89\u001b[0m \u001b[32m━━━━━━━━━━━━━━━━━━━━\u001b[0m\u001b[37m\u001b[0m \u001b[1m1s\u001b[0m 5ms/step - loss: 1.3443e-04 - mae: 0.0078 - val_loss: 3.1315e-04 - val_mae: 0.0138\n",
            "Epoch 36/100\n",
            "\u001b[1m89/89\u001b[0m \u001b[32m━━━━━━━━━━━━━━━━━━━━\u001b[0m\u001b[37m\u001b[0m \u001b[1m1s\u001b[0m 6ms/step - loss: 2.8832e-04 - mae: 0.0118 - val_loss: 3.5280e-04 - val_mae: 0.0134\n",
            "Epoch 37/100\n",
            "\u001b[1m89/89\u001b[0m \u001b[32m━━━━━━━━━━━━━━━━━━━━\u001b[0m\u001b[37m\u001b[0m \u001b[1m1s\u001b[0m 5ms/step - loss: 2.3712e-04 - mae: 0.0105 - val_loss: 2.3477e-04 - val_mae: 0.0110\n",
            "Epoch 38/100\n",
            "\u001b[1m89/89\u001b[0m \u001b[32m━━━━━━━━━━━━━━━━━━━━\u001b[0m\u001b[37m\u001b[0m \u001b[1m1s\u001b[0m 5ms/step - loss: 3.2235e-04 - mae: 0.0103 - val_loss: 5.2314e-04 - val_mae: 0.0179\n",
            "Epoch 39/100\n",
            "\u001b[1m89/89\u001b[0m \u001b[32m━━━━━━━━━━━━━━━━━━━━\u001b[0m\u001b[37m\u001b[0m \u001b[1m1s\u001b[0m 5ms/step - loss: 9.3326e-04 - mae: 0.0197 - val_loss: 4.4161e-04 - val_mae: 0.0150\n",
            "Epoch 40/100\n",
            "\u001b[1m89/89\u001b[0m \u001b[32m━━━━━━━━━━━━━━━━━━━━\u001b[0m\u001b[37m\u001b[0m \u001b[1m1s\u001b[0m 5ms/step - loss: 0.0011 - mae: 0.0219 - val_loss: 2.2249e-04 - val_mae: 0.0108\n",
            "Epoch 41/100\n",
            "\u001b[1m89/89\u001b[0m \u001b[32m━━━━━━━━━━━━━━━━━━━━\u001b[0m\u001b[37m\u001b[0m \u001b[1m1s\u001b[0m 6ms/step - loss: 4.1094e-04 - mae: 0.0117 - val_loss: 5.6818e-04 - val_mae: 0.0129\n",
            "Epoch 42/100\n",
            "\u001b[1m89/89\u001b[0m \u001b[32m━━━━━━━━━━━━━━━━━━━━\u001b[0m\u001b[37m\u001b[0m \u001b[1m1s\u001b[0m 8ms/step - loss: 4.6964e-04 - mae: 0.0151 - val_loss: 2.0846e-04 - val_mae: 0.0110\n",
            "Epoch 43/100\n",
            "\u001b[1m89/89\u001b[0m \u001b[32m━━━━━━━━━━━━━━━━━━━━\u001b[0m\u001b[37m\u001b[0m \u001b[1m1s\u001b[0m 8ms/step - loss: 1.6287e-04 - mae: 0.0099 - val_loss: 1.4047e-04 - val_mae: 0.0084\n",
            "Epoch 44/100\n",
            "\u001b[1m89/89\u001b[0m \u001b[32m━━━━━━━━━━━━━━━━━━━━\u001b[0m\u001b[37m\u001b[0m \u001b[1m1s\u001b[0m 7ms/step - loss: 1.0089e-04 - mae: 0.0074 - val_loss: 1.5429e-04 - val_mae: 0.0095\n",
            "Epoch 45/100\n",
            "\u001b[1m89/89\u001b[0m \u001b[32m━━━━━━━━━━━━━━━━━━━━\u001b[0m\u001b[37m\u001b[0m \u001b[1m1s\u001b[0m 6ms/step - loss: 1.3642e-04 - mae: 0.0087 - val_loss: 1.1139e-04 - val_mae: 0.0081\n",
            "Epoch 46/100\n",
            "\u001b[1m89/89\u001b[0m \u001b[32m━━━━━━━━━━━━━━━━━━━━\u001b[0m\u001b[37m\u001b[0m \u001b[1m1s\u001b[0m 5ms/step - loss: 9.6590e-05 - mae: 0.0071 - val_loss: 9.1839e-05 - val_mae: 0.0069\n",
            "Epoch 47/100\n",
            "\u001b[1m89/89\u001b[0m \u001b[32m━━━━━━━━━━━━━━━━━━━━\u001b[0m\u001b[37m\u001b[0m \u001b[1m1s\u001b[0m 5ms/step - loss: 5.3055e-05 - mae: 0.0055 - val_loss: 1.4000e-04 - val_mae: 0.0083\n",
            "Epoch 48/100\n",
            "\u001b[1m89/89\u001b[0m \u001b[32m━━━━━━━━━━━━━━━━━━━━\u001b[0m\u001b[37m\u001b[0m \u001b[1m1s\u001b[0m 5ms/step - loss: 6.2301e-05 - mae: 0.0055 - val_loss: 8.8838e-05 - val_mae: 0.0066\n",
            "Epoch 49/100\n",
            "\u001b[1m89/89\u001b[0m \u001b[32m━━━━━━━━━━━━━━━━━━━━\u001b[0m\u001b[37m\u001b[0m \u001b[1m1s\u001b[0m 5ms/step - loss: 7.2562e-05 - mae: 0.0059 - val_loss: 1.7362e-04 - val_mae: 0.0105\n",
            "Epoch 50/100\n",
            "\u001b[1m89/89\u001b[0m \u001b[32m━━━━━━━━━━━━━━━━━━━━\u001b[0m\u001b[37m\u001b[0m \u001b[1m1s\u001b[0m 6ms/step - loss: 8.4442e-05 - mae: 0.0069 - val_loss: 7.2969e-05 - val_mae: 0.0060\n",
            "Epoch 51/100\n",
            "\u001b[1m89/89\u001b[0m \u001b[32m━━━━━━━━━━━━━━━━━━━━\u001b[0m\u001b[37m\u001b[0m \u001b[1m1s\u001b[0m 5ms/step - loss: 6.6144e-05 - mae: 0.0059 - val_loss: 1.3570e-04 - val_mae: 0.0088\n",
            "Epoch 52/100\n",
            "\u001b[1m89/89\u001b[0m \u001b[32m━━━━━━━━━━━━━━━━━━━━\u001b[0m\u001b[37m\u001b[0m \u001b[1m1s\u001b[0m 5ms/step - loss: 1.0065e-04 - mae: 0.0073 - val_loss: 6.6992e-05 - val_mae: 0.0061\n",
            "Epoch 53/100\n",
            "\u001b[1m89/89\u001b[0m \u001b[32m━━━━━━━━━━━━━━━━━━━━\u001b[0m\u001b[37m\u001b[0m \u001b[1m1s\u001b[0m 6ms/step - loss: 2.9416e-05 - mae: 0.0041 - val_loss: 8.8751e-05 - val_mae: 0.0067\n",
            "Epoch 54/100\n",
            "\u001b[1m89/89\u001b[0m \u001b[32m━━━━━━━━━━━━━━━━━━━━\u001b[0m\u001b[37m\u001b[0m \u001b[1m1s\u001b[0m 5ms/step - loss: 6.4128e-05 - mae: 0.0061 - val_loss: 9.0387e-05 - val_mae: 0.0071\n",
            "Epoch 55/100\n",
            "\u001b[1m89/89\u001b[0m \u001b[32m━━━━━━━━━━━━━━━━━━━━\u001b[0m\u001b[37m\u001b[0m \u001b[1m1s\u001b[0m 6ms/step - loss: 1.2781e-04 - mae: 0.0078 - val_loss: 4.2373e-04 - val_mae: 0.0153\n",
            "Epoch 56/100\n",
            "\u001b[1m89/89\u001b[0m \u001b[32m━━━━━━━━━━━━━━━━━━━━\u001b[0m\u001b[37m\u001b[0m \u001b[1m1s\u001b[0m 5ms/step - loss: 5.4096e-04 - mae: 0.0176 - val_loss: 4.2242e-04 - val_mae: 0.0157\n",
            "Epoch 57/100\n",
            "\u001b[1m89/89\u001b[0m \u001b[32m━━━━━━━━━━━━━━━━━━━━\u001b[0m\u001b[37m\u001b[0m \u001b[1m1s\u001b[0m 6ms/step - loss: 7.2807e-04 - mae: 0.0203 - val_loss: 5.8054e-04 - val_mae: 0.0129\n",
            "Epoch 58/100\n",
            "\u001b[1m89/89\u001b[0m \u001b[32m━━━━━━━━━━━━━━━━━━━━\u001b[0m\u001b[37m\u001b[0m \u001b[1m0s\u001b[0m 5ms/step - loss: 4.6081e-04 - mae: 0.0141 - val_loss: 2.6995e-04 - val_mae: 0.0113\n",
            "Epoch 59/100\n",
            "\u001b[1m89/89\u001b[0m \u001b[32m━━━━━━━━━━━━━━━━━━━━\u001b[0m\u001b[37m\u001b[0m \u001b[1m1s\u001b[0m 6ms/step - loss: 1.4342e-04 - mae: 0.0083 - val_loss: 1.4216e-04 - val_mae: 0.0091\n",
            "Epoch 60/100\n",
            "\u001b[1m89/89\u001b[0m \u001b[32m━━━━━━━━━━━━━━━━━━━━\u001b[0m\u001b[37m\u001b[0m \u001b[1m1s\u001b[0m 6ms/step - loss: 9.6375e-05 - mae: 0.0066 - val_loss: 1.3009e-04 - val_mae: 0.0080\n",
            "Epoch 61/100\n",
            "\u001b[1m89/89\u001b[0m \u001b[32m━━━━━━━━━━━━━━━━━━━━\u001b[0m\u001b[37m\u001b[0m \u001b[1m1s\u001b[0m 9ms/step - loss: 1.7740e-04 - mae: 0.0086 - val_loss: 1.7169e-04 - val_mae: 0.0094\n",
            "Epoch 62/100\n",
            "\u001b[1m89/89\u001b[0m \u001b[32m━━━━━━━━━━━━━━━━━━━━\u001b[0m\u001b[37m\u001b[0m \u001b[1m1s\u001b[0m 9ms/step - loss: 2.8464e-04 - mae: 0.0100 - val_loss: 2.5936e-04 - val_mae: 0.0118\n",
            "Epoch 63/100\n",
            "\u001b[1m89/89\u001b[0m \u001b[32m━━━━━━━━━━━━━━━━━━━━\u001b[0m\u001b[37m\u001b[0m \u001b[1m1s\u001b[0m 6ms/step - loss: 1.9383e-04 - mae: 0.0093 - val_loss: 2.0528e-04 - val_mae: 0.0101\n",
            "Epoch 64/100\n",
            "\u001b[1m89/89\u001b[0m \u001b[32m━━━━━━━━━━━━━━━━━━━━\u001b[0m\u001b[37m\u001b[0m \u001b[1m1s\u001b[0m 6ms/step - loss: 3.3364e-04 - mae: 0.0130 - val_loss: 8.4042e-05 - val_mae: 0.0064\n",
            "Epoch 65/100\n",
            "\u001b[1m89/89\u001b[0m \u001b[32m━━━━━━━━━━━━━━━━━━━━\u001b[0m\u001b[37m\u001b[0m \u001b[1m1s\u001b[0m 6ms/step - loss: 8.6957e-05 - mae: 0.0066 - val_loss: 1.0736e-04 - val_mae: 0.0074\n",
            "Epoch 66/100\n",
            "\u001b[1m89/89\u001b[0m \u001b[32m━━━━━━━━━━━━━━━━━━━━\u001b[0m\u001b[37m\u001b[0m \u001b[1m1s\u001b[0m 6ms/step - loss: 1.8753e-04 - mae: 0.0075 - val_loss: 1.4608e-04 - val_mae: 0.0084\n",
            "Epoch 67/100\n",
            "\u001b[1m89/89\u001b[0m \u001b[32m━━━━━━━━━━━━━━━━━━━━\u001b[0m\u001b[37m\u001b[0m \u001b[1m1s\u001b[0m 5ms/step - loss: 1.2913e-04 - mae: 0.0078 - val_loss: 2.3074e-04 - val_mae: 0.0126\n",
            "Epoch 68/100\n",
            "\u001b[1m89/89\u001b[0m \u001b[32m━━━━━━━━━━━━━━━━━━━━\u001b[0m\u001b[37m\u001b[0m \u001b[1m1s\u001b[0m 7ms/step - loss: 3.5503e-04 - mae: 0.0101 - val_loss: 1.0542e-04 - val_mae: 0.0081\n",
            "Epoch 69/100\n",
            "\u001b[1m89/89\u001b[0m \u001b[32m━━━━━━━━━━━━━━━━━━━━\u001b[0m\u001b[37m\u001b[0m \u001b[1m1s\u001b[0m 5ms/step - loss: 1.3833e-04 - mae: 0.0085 - val_loss: 2.2498e-04 - val_mae: 0.0111\n",
            "Epoch 70/100\n",
            "\u001b[1m89/89\u001b[0m \u001b[32m━━━━━━━━━━━━━━━━━━━━\u001b[0m\u001b[37m\u001b[0m \u001b[1m1s\u001b[0m 5ms/step - loss: 3.8060e-04 - mae: 0.0146 - val_loss: 8.9200e-05 - val_mae: 0.0074\n",
            "Epoch 71/100\n",
            "\u001b[1m89/89\u001b[0m \u001b[32m━━━━━━━━━━━━━━━━━━━━\u001b[0m\u001b[37m\u001b[0m \u001b[1m1s\u001b[0m 6ms/step - loss: 7.2483e-05 - mae: 0.0058 - val_loss: 6.3467e-05 - val_mae: 0.0060\n",
            "Epoch 72/100\n",
            "\u001b[1m89/89\u001b[0m \u001b[32m━━━━━━━━━━━━━━━━━━━━\u001b[0m\u001b[37m\u001b[0m \u001b[1m1s\u001b[0m 5ms/step - loss: 1.1762e-04 - mae: 0.0069 - val_loss: 1.6986e-04 - val_mae: 0.0103\n",
            "Epoch 73/100\n",
            "\u001b[1m89/89\u001b[0m \u001b[32m━━━━━━━━━━━━━━━━━━━━\u001b[0m\u001b[37m\u001b[0m \u001b[1m1s\u001b[0m 5ms/step - loss: 9.3185e-05 - mae: 0.0065 - val_loss: 4.0015e-04 - val_mae: 0.0167\n",
            "Epoch 74/100\n",
            "\u001b[1m89/89\u001b[0m \u001b[32m━━━━━━━━━━━━━━━━━━━━\u001b[0m\u001b[37m\u001b[0m \u001b[1m1s\u001b[0m 5ms/step - loss: 2.7122e-04 - mae: 0.0120 - val_loss: 7.9182e-05 - val_mae: 0.0071\n",
            "Epoch 75/100\n",
            "\u001b[1m89/89\u001b[0m \u001b[32m━━━━━━━━━━━━━━━━━━━━\u001b[0m\u001b[37m\u001b[0m \u001b[1m1s\u001b[0m 12ms/step - loss: 7.6207e-05 - mae: 0.0064 - val_loss: 1.1639e-04 - val_mae: 0.0086\n",
            "Epoch 76/100\n",
            "\u001b[1m89/89\u001b[0m \u001b[32m━━━━━━━━━━━━━━━━━━━━\u001b[0m\u001b[37m\u001b[0m \u001b[1m1s\u001b[0m 6ms/step - loss: 4.6219e-05 - mae: 0.0050 - val_loss: 7.4240e-05 - val_mae: 0.0071\n",
            "Epoch 77/100\n",
            "\u001b[1m89/89\u001b[0m \u001b[32m━━━━━━━━━━━━━━━━━━━━\u001b[0m\u001b[37m\u001b[0m \u001b[1m1s\u001b[0m 5ms/step - loss: 3.5721e-05 - mae: 0.0044 - val_loss: 5.7289e-05 - val_mae: 0.0057\n",
            "Epoch 78/100\n",
            "\u001b[1m89/89\u001b[0m \u001b[32m━━━━━━━━━━━━━━━━━━━━\u001b[0m\u001b[37m\u001b[0m \u001b[1m1s\u001b[0m 9ms/step - loss: 3.7418e-05 - mae: 0.0043 - val_loss: 8.3553e-05 - val_mae: 0.0059\n",
            "Epoch 79/100\n",
            "\u001b[1m89/89\u001b[0m \u001b[32m━━━━━━━━━━━━━━━━━━━━\u001b[0m\u001b[37m\u001b[0m \u001b[1m1s\u001b[0m 8ms/step - loss: 5.1258e-05 - mae: 0.0050 - val_loss: 8.5268e-05 - val_mae: 0.0070\n",
            "Epoch 80/100\n",
            "\u001b[1m89/89\u001b[0m \u001b[32m━━━━━━━━━━━━━━━━━━━━\u001b[0m\u001b[37m\u001b[0m \u001b[1m1s\u001b[0m 8ms/step - loss: 7.4061e-05 - mae: 0.0059 - val_loss: 4.6405e-05 - val_mae: 0.0049\n",
            "Epoch 81/100\n",
            "\u001b[1m89/89\u001b[0m \u001b[32m━━━━━━━━━━━━━━━━━━━━\u001b[0m\u001b[37m\u001b[0m \u001b[1m1s\u001b[0m 5ms/step - loss: 1.1203e-04 - mae: 0.0073 - val_loss: 8.5570e-05 - val_mae: 0.0062\n",
            "Epoch 82/100\n",
            "\u001b[1m89/89\u001b[0m \u001b[32m━━━━━━━━━━━━━━━━━━━━\u001b[0m\u001b[37m\u001b[0m \u001b[1m1s\u001b[0m 6ms/step - loss: 5.6499e-05 - mae: 0.0052 - val_loss: 4.8350e-05 - val_mae: 0.0052\n",
            "Epoch 83/100\n",
            "\u001b[1m89/89\u001b[0m \u001b[32m━━━━━━━━━━━━━━━━━━━━\u001b[0m\u001b[37m\u001b[0m \u001b[1m0s\u001b[0m 5ms/step - loss: 6.9577e-05 - mae: 0.0062 - val_loss: 1.1296e-04 - val_mae: 0.0080\n",
            "Epoch 84/100\n",
            "\u001b[1m89/89\u001b[0m \u001b[32m━━━━━━━━━━━━━━━━━━━━\u001b[0m\u001b[37m\u001b[0m \u001b[1m1s\u001b[0m 5ms/step - loss: 8.1920e-05 - mae: 0.0063 - val_loss: 5.8563e-05 - val_mae: 0.0059\n",
            "Epoch 85/100\n",
            "\u001b[1m89/89\u001b[0m \u001b[32m━━━━━━━━━━━━━━━━━━━━\u001b[0m\u001b[37m\u001b[0m \u001b[1m1s\u001b[0m 5ms/step - loss: 8.1960e-05 - mae: 0.0066 - val_loss: 2.4703e-04 - val_mae: 0.0119\n",
            "Epoch 86/100\n",
            "\u001b[1m89/89\u001b[0m \u001b[32m━━━━━━━━━━━━━━━━━━━━\u001b[0m\u001b[37m\u001b[0m \u001b[1m1s\u001b[0m 6ms/step - loss: 2.5213e-04 - mae: 0.0111 - val_loss: 2.4587e-04 - val_mae: 0.0120\n",
            "Epoch 87/100\n",
            "\u001b[1m89/89\u001b[0m \u001b[32m━━━━━━━━━━━━━━━━━━━━\u001b[0m\u001b[37m\u001b[0m \u001b[1m1s\u001b[0m 5ms/step - loss: 2.4618e-04 - mae: 0.0113 - val_loss: 1.8341e-04 - val_mae: 0.0101\n",
            "Epoch 88/100\n",
            "\u001b[1m89/89\u001b[0m \u001b[32m━━━━━━━━━━━━━━━━━━━━\u001b[0m\u001b[37m\u001b[0m \u001b[1m1s\u001b[0m 6ms/step - loss: 2.2774e-04 - mae: 0.0110 - val_loss: 2.0187e-04 - val_mae: 0.0104\n",
            "Epoch 89/100\n",
            "\u001b[1m89/89\u001b[0m \u001b[32m━━━━━━━━━━━━━━━━━━━━\u001b[0m\u001b[37m\u001b[0m \u001b[1m1s\u001b[0m 5ms/step - loss: 2.5744e-04 - mae: 0.0115 - val_loss: 1.4262e-04 - val_mae: 0.0086\n",
            "Epoch 90/100\n",
            "\u001b[1m89/89\u001b[0m \u001b[32m━━━━━━━━━━━━━━━━━━━━\u001b[0m\u001b[37m\u001b[0m \u001b[1m1s\u001b[0m 6ms/step - loss: 1.1492e-04 - mae: 0.0073 - val_loss: 1.6646e-04 - val_mae: 0.0075\n",
            "Epoch 91/100\n",
            "\u001b[1m89/89\u001b[0m \u001b[32m━━━━━━━━━━━━━━━━━━━━\u001b[0m\u001b[37m\u001b[0m \u001b[1m1s\u001b[0m 6ms/step - loss: 1.0701e-04 - mae: 0.0070 - val_loss: 2.4316e-04 - val_mae: 0.0134\n",
            "Epoch 92/100\n",
            "\u001b[1m89/89\u001b[0m \u001b[32m━━━━━━━━━━━━━━━━━━━━\u001b[0m\u001b[37m\u001b[0m \u001b[1m1s\u001b[0m 5ms/step - loss: 2.0154e-04 - mae: 0.0099 - val_loss: 1.0886e-04 - val_mae: 0.0079\n",
            "Epoch 93/100\n",
            "\u001b[1m89/89\u001b[0m \u001b[32m━━━━━━━━━━━━━━━━━━━━\u001b[0m\u001b[37m\u001b[0m \u001b[1m1s\u001b[0m 5ms/step - loss: 6.6674e-05 - mae: 0.0053 - val_loss: 8.1518e-05 - val_mae: 0.0045\n",
            "Epoch 94/100\n",
            "\u001b[1m89/89\u001b[0m \u001b[32m━━━━━━━━━━━━━━━━━━━━\u001b[0m\u001b[37m\u001b[0m \u001b[1m1s\u001b[0m 5ms/step - loss: 1.5577e-04 - mae: 0.0074 - val_loss: 1.8238e-04 - val_mae: 0.0066\n",
            "Epoch 95/100\n",
            "\u001b[1m89/89\u001b[0m \u001b[32m━━━━━━━━━━━━━━━━━━━━\u001b[0m\u001b[37m\u001b[0m \u001b[1m1s\u001b[0m 5ms/step - loss: 1.7455e-04 - mae: 0.0098 - val_loss: 7.2868e-05 - val_mae: 0.0060\n",
            "Epoch 96/100\n",
            "\u001b[1m89/89\u001b[0m \u001b[32m━━━━━━━━━━━━━━━━━━━━\u001b[0m\u001b[37m\u001b[0m \u001b[1m1s\u001b[0m 6ms/step - loss: 1.1781e-04 - mae: 0.0073 - val_loss: 4.2787e-05 - val_mae: 0.0046\n",
            "Epoch 97/100\n",
            "\u001b[1m89/89\u001b[0m \u001b[32m━━━━━━━━━━━━━━━━━━━━\u001b[0m\u001b[37m\u001b[0m \u001b[1m1s\u001b[0m 8ms/step - loss: 1.6062e-04 - mae: 0.0068 - val_loss: 9.1227e-05 - val_mae: 0.0071\n",
            "Epoch 98/100\n",
            "\u001b[1m89/89\u001b[0m \u001b[32m━━━━━━━━━━━━━━━━━━━━\u001b[0m\u001b[37m\u001b[0m \u001b[1m1s\u001b[0m 9ms/step - loss: 6.4418e-05 - mae: 0.0055 - val_loss: 8.3710e-05 - val_mae: 0.0071\n",
            "Epoch 99/100\n",
            "\u001b[1m89/89\u001b[0m \u001b[32m━━━━━━━━━━━━━━━━━━━━\u001b[0m\u001b[37m\u001b[0m \u001b[1m1s\u001b[0m 6ms/step - loss: 3.4805e-05 - mae: 0.0043 - val_loss: 1.5120e-04 - val_mae: 0.0089\n",
            "Epoch 100/100\n",
            "\u001b[1m89/89\u001b[0m \u001b[32m━━━━━━━━━━━━━━━━━━━━\u001b[0m\u001b[37m\u001b[0m \u001b[1m1s\u001b[0m 6ms/step - loss: 1.3940e-04 - mae: 0.0083 - val_loss: 7.1286e-05 - val_mae: 0.0066\n"
          ]
        }
      ],
      "source": [
        "dl_model_fitted = dl_model.fit(X_train_scaled, y_train, validation_split=0.2, epochs=100, batch_size=16, verbose=1)"
      ]
    },
    {
      "cell_type": "markdown",
      "metadata": {
        "id": "DgtirrIAcBai"
      },
      "source": [
        "now we will track the loss"
      ]
    },
    {
      "cell_type": "code",
      "execution_count": null,
      "metadata": {
        "colab": {
          "base_uri": "https://localhost:8080/",
          "height": 472
        },
        "id": "rgjlbbmEcGzU",
        "outputId": "a61d3a4c-5c79-4543-f4f7-09a4b7c645fa"
      },
      "outputs": [
        {
          "data": {
            "image/png": "[encoded data removed]",
            "text/plain": [
              "<Figure size 640x480 with 1 Axes>"
            ]
          },
          "metadata": {},
          "output_type": "display_data"
        }
      ],
      "source": [
        "import matplotlib.pyplot as plt\n",
        "\n",
        "plt.plot(dl_model_fitted.history['loss'], label='Training Loss')\n",
        "plt.plot(dl_model_fitted.history['val_loss'], label='Validation Loss')\n",
        "plt.legend()\n",
        "plt.title(\"Loss vs Epochs\")\n",
        "plt.xlabel(\"Epoch\")\n",
        "plt.ylabel(\"Loss\")\n",
        "plt.show()"
      ]
    },
    {
      "cell_type": "code",
      "execution_count": null,
      "metadata": {
        "colab": {
          "base_uri": "https://localhost:8080/"
        },
        "id": "XJZBjGrfPLXE",
        "outputId": "1eb24914-c74a-4881-cc2c-dccd9247859b"
      },
      "outputs": [
        {
          "name": "stdout",
          "output_type": "stream",
          "text": [
            "\u001b[1m14/14\u001b[0m \u001b[32m━━━━━━━━━━━━━━━━━━━━\u001b[0m\u001b[37m\u001b[0m \u001b[1m1s\u001b[0m 22ms/step - loss: 1.5528e-04 - mae: 0.0085\n"
          ]
        },
        {
          "data": {
            "text/plain": [
              "[0.000157829825184308, 0.008075248450040817]"
            ]
          },
          "execution_count": 98,
          "metadata": {},
          "output_type": "execute_result"
        }
      ],
      "source": [
        "dl_model.evaluate(X_test_scaled, y_test)"
      ]
    },
    {
      "cell_type": "markdown",
      "metadata": {
        "id": "UUmwMEWawBxG"
      },
      "source": [
        "Plot of the predictions vs real values"
      ]
    },
    {
      "cell_type": "code",
      "execution_count": null,
      "metadata": {
        "colab": {
          "base_uri": "https://localhost:8080/",
          "height": 624
        },
        "id": "plIMAf8cP_i-",
        "outputId": "e885fb32-46be-4212-ae5b-b4e79d7786be"
      },
      "outputs": [
        {
          "name": "stdout",
          "output_type": "stream",
          "text": [
            "\u001b[1m14/14\u001b[0m \u001b[32m━━━━━━━━━━━━━━━━━━━━\u001b[0m\u001b[37m\u001b[0m \u001b[1m0s\u001b[0m 6ms/step \n"
          ]
        },
        {
          "data": {
            "image/png": "[encoded data removed]",
            "text/plain": [
              "<Figure size 800x600 with 1 Axes>"
            ]
          },
          "metadata": {},
          "output_type": "display_data"
        }
      ],
      "source": [
        "import matplotlib.pyplot as plt\n",
        "\n",
        "y_pred = dl_model.predict(X_test_scaled) # predictions\n",
        "\n",
        "# Graph\n",
        "plt.figure(figsize=(8, 6))\n",
        "plt.scatter(y_test, y_pred, alpha=0.5, color='royalblue')\n",
        "plt.plot([y_test.min(), y_test.max()], [y_test.min(), y_test.max()], 'r--')\n",
        "plt.xlabel(\"Real Maintenance Score\")\n",
        "plt.ylabel(\"Predicted Maintenance Score\")\n",
        "plt.title(\"Predictions vs Real Values\")\n",
        "plt.grid(True)\n",
        "plt.tight_layout()\n",
        "plt.show()"
      ]
    },
    {
      "cell_type": "code",
      "execution_count": null,
      "metadata": {
        "id": "oKZVUmjAv-kr"
      },
      "outputs": [],
      "source": []
    }
  ],
  "metadata": {
    "colab": {
      "include_colab_link": true,
      "provenance": []
    },
    "kernelspec": {
      "display_name": "Python 3",
      "name": "python3"
    },
    "language_info": {
      "codemirror_mode": {
        "name": "ipython",
        "version": 3
      },
      "file_extension": ".py",
      "mimetype": "text/x-python",
      "name": "python",
      "nbconvert_exporter": "python",
      "pygments_lexer": "ipython3",
      "version": "3.12.7"
    }
  },
  "nbformat": 4,
  "nbformat_minor": 0
}
